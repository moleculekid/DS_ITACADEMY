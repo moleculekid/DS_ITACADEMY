{
 "cells": [
  {
   "cell_type": "markdown",
   "source": [
    "Exercici 1\n",
    "Carregar “data” i \"features\" del conjunt de dades, i visualitza els 10 primers registres de cadascun."
   ],
   "metadata": {
    "collapsed": false
   },
   "id": "2263d2c7f1340576"
  },
  {
   "cell_type": "code",
   "execution_count": 10,
   "outputs": [
    {
     "name": "stdout",
     "output_type": "stream",
     "text": [
      "Els 10 primers registres de les dades:\n",
      "[[5.1 3.5 1.4 0.2]\n",
      " [4.9 3.  1.4 0.2]\n",
      " [4.7 3.2 1.3 0.2]\n",
      " [4.6 3.1 1.5 0.2]\n",
      " [5.  3.6 1.4 0.2]\n",
      " [5.4 3.9 1.7 0.4]\n",
      " [4.6 3.4 1.4 0.3]\n",
      " [5.  3.4 1.5 0.2]\n",
      " [4.4 2.9 1.4 0.2]\n",
      " [4.9 3.1 1.5 0.1]]\n",
      "Els 10 primers noms de les característiques:\n",
      "['sepal length (cm)', 'sepal width (cm)', 'petal length (cm)', 'petal width (cm)']\n"
     ]
    }
   ],
   "source": [
    "import numpy as np\n",
    "from sklearn.datasets import load_iris\n",
    "\n",
    "iris = load_iris()\n",
    "data = iris.data  \n",
    "features = iris.feature_names  \n",
    "print(\"Els 10 primers registres de les dades:\")\n",
    "print(data[:10])\n",
    "print(\"Els 10 primers noms de les característiques:\")\n",
    "print(features[:10])"
   ],
   "metadata": {
    "collapsed": false,
    "ExecuteTime": {
     "end_time": "2023-10-05T08:51:23.177739247Z",
     "start_time": "2023-10-05T08:51:23.133340557Z"
    }
   },
   "id": "5f6bac946eece735"
  },
  {
   "cell_type": "code",
   "execution_count": 2,
   "outputs": [
    {
     "name": "stdout",
     "output_type": "stream",
     "text": [
      "Els 10 primers registres de les dades:\n",
      "   sepal length (cm)  sepal width (cm)  petal length (cm)  petal width (cm)\n",
      "0                5.1               3.5                1.4               0.2\n",
      "1                4.9               3.0                1.4               0.2\n",
      "2                4.7               3.2                1.3               0.2\n",
      "3                4.6               3.1                1.5               0.2\n",
      "4                5.0               3.6                1.4               0.2\n",
      "5                5.4               3.9                1.7               0.4\n",
      "6                4.6               3.4                1.4               0.3\n",
      "7                5.0               3.4                1.5               0.2\n",
      "8                4.4               2.9                1.4               0.2\n",
      "9                4.9               3.1                1.5               0.1\n"
     ]
    }
   ],
   "source": [
    "import pandas as pd\n",
    "from sklearn.datasets import load_iris\n",
    "\n",
    "iris = load_iris()\n",
    "data = iris.data  \n",
    "feature_names = iris.feature_names  \n",
    "df_data = pd.DataFrame(data, columns=feature_names)\n",
    "\n",
    "print(\"Els 10 primers registres de les dades:\")\n",
    "print(df_data.head(10))"
   ],
   "metadata": {
    "collapsed": false,
    "ExecuteTime": {
     "end_time": "2023-10-05T08:49:30.619467207Z",
     "start_time": "2023-10-05T08:49:30.259320314Z"
    }
   },
   "id": "d59f854e38e8588"
  },
  {
   "cell_type": "markdown",
   "source": [
    "Exercici 2\n",
    "Concatena “data” i “features” en un nou array. Mostra els 5 primers registres."
   ],
   "metadata": {
    "collapsed": false
   },
   "id": "a717acc9304dbee1"
  },
  {
   "cell_type": "code",
   "execution_count": 3,
   "outputs": [
    {
     "name": "stdout",
     "output_type": "stream",
     "text": [
      "Els 5 primers registres del nou array:\n",
      "[['5.1' '3.5' '1.4' '0.2' '0.0' 'setosa']\n",
      " ['4.9' '3.0' '1.4' '0.2' '0.0' 'setosa']\n",
      " ['4.7' '3.2' '1.3' '0.2' '0.0' 'setosa']\n",
      " ['4.6' '3.1' '1.5' '0.2' '0.0' 'setosa']\n",
      " ['5.0' '3.6' '1.4' '0.2' '0.0' 'setosa']]\n"
     ]
    }
   ],
   "source": [
    "from sklearn.datasets import load_iris\n",
    "\n",
    "iris = load_iris()\n",
    "data = iris.data  \n",
    "features = iris.feature_names  \n",
    "\n",
    "dades_concatenades = np.column_stack((data, iris.target))\n",
    "dades_concatenades = np.column_stack((dades_concatenades, iris.target_names[iris.target]))\n",
    "\n",
    "print(\"Els 5 primers registres del nou array:\")\n",
    "print(dades_concatenades[:5])"
   ],
   "metadata": {
    "collapsed": false,
    "ExecuteTime": {
     "end_time": "2023-10-05T08:49:30.628376718Z",
     "start_time": "2023-10-05T08:49:30.624583330Z"
    }
   },
   "id": "8dd7685af4a0a389"
  },
  {
   "cell_type": "markdown",
   "source": [
    "Exercici 3\n",
    "Calcula la mitjana i desviació estàndard de la longitud del sèpal (\"sepal length (cm)\") i la longitud del pètal (\"petal length (cm)\"). Mostra els resultats amb dos decimals."
   ],
   "metadata": {
    "collapsed": false
   },
   "id": "c2a839b5b60af515"
  },
  {
   "cell_type": "code",
   "execution_count": 3,
   "outputs": [
    {
     "name": "stdout",
     "output_type": "stream",
     "text": [
      "La mitjana de la longitud del sèpal és de : 5.84 cm\n",
      "La mitjana de la longitud del pètal és de: 3.76 cm\n",
      "La desviació estàndard de la longitud del sèpal és de: 0.83 cm\n",
      "La desviació estàndard de la longitud del pètal és de: 1.76 cm\n"
     ]
    }
   ],
   "source": [
    "import numpy as np\n",
    "from sklearn.datasets import load_iris\n",
    "\n",
    "iris = load_iris()\n",
    "data = iris.data \n",
    "\n",
    "sepal_length_index = features.index('sepal length (cm)')\n",
    "petal_length_index = features.index('petal length (cm)')\n",
    "\n",
    "sepal_length = data[:, sepal_length_index]\n",
    "petal_length = data[:, petal_length_index]\n",
    "\n",
    "mean_sepal_length = np.mean(sepal_length)\n",
    "mean_petal_length = np.mean(petal_length)\n",
    "std_sepal_length = np.std(sepal_length)\n",
    "std_petal_length = np.std(petal_length)\n",
    "\n",
    "print(\"La mitjana de la longitud del sèpal és de : {:.2f} cm\".format(mean_sepal_length))\n",
    "print(\"La mitjana de la longitud del pètal és de: {:.2f} cm\".format(mean_petal_length))\n",
    "print(\"La desviació estàndard de la longitud del sèpal és de: {:.2f} cm\".format(std_sepal_length))\n",
    "print(\"La desviació estàndard de la longitud del pètal és de: {:.2f} cm\".format(std_petal_length))"
   ],
   "metadata": {
    "collapsed": false,
    "ExecuteTime": {
     "end_time": "2023-10-16T07:24:04.883961179Z",
     "start_time": "2023-10-16T07:24:04.879253079Z"
    }
   },
   "id": "a7261522f62994dc"
  },
  {
   "cell_type": "markdown",
   "source": [
    "Exercici 4\n",
    "Selecciona una mostra aleatòria de 20 registres del conjunt que has obtingut en l'exercici anterior."
   ],
   "metadata": {
    "collapsed": false
   },
   "id": "66f2228619bf90ea"
  },
  {
   "cell_type": "code",
   "execution_count": 5,
   "outputs": [
    {
     "name": "stdout",
     "output_type": "stream",
     "text": [
      "Mostra aleatòria de 20 registres:\n",
      "[[6.3 3.3 4.7 1.6]\n",
      " [5.7 3.  4.2 1.2]\n",
      " [5.  3.6 1.4 0.2]\n",
      " [6.8 2.8 4.8 1.4]\n",
      " [7.7 3.8 6.7 2.2]\n",
      " [6.3 2.8 5.1 1.5]\n",
      " [4.4 2.9 1.4 0.2]\n",
      " [5.  2.3 3.3 1. ]\n",
      " [4.8 3.  1.4 0.3]\n",
      " [5.  3.3 1.4 0.2]\n",
      " [5.1 2.5 3.  1.1]\n",
      " [5.4 3.4 1.7 0.2]\n",
      " [5.6 3.  4.1 1.3]\n",
      " [5.4 3.9 1.3 0.4]\n",
      " [5.7 2.8 4.1 1.3]\n",
      " [6.6 3.  4.4 1.4]\n",
      " [6.1 2.9 4.7 1.4]\n",
      " [5.8 2.7 4.1 1. ]\n",
      " [6.  3.  4.8 1.8]\n",
      " [6.4 2.7 5.3 1.9]]\n"
     ]
    }
   ],
   "source": [
    "import numpy as np\n",
    "from sklearn.datasets import load_iris\n",
    "\n",
    "iris = load_iris()\n",
    "data = iris.data \n",
    "\n",
    "num_samples = 20\n",
    "random_indices = np.random.choice(data.shape[0], num_samples, replace=False)\n",
    "random_sample = data[random_indices]\n",
    "\n",
    "print(\"Mostra aleatòria de 20 registres:\")\n",
    "print(random_sample)"
   ],
   "metadata": {
    "collapsed": false,
    "ExecuteTime": {
     "end_time": "2023-10-05T08:49:32.447875712Z",
     "start_time": "2023-10-05T08:49:32.433532367Z"
    }
   },
   "id": "93b75e59a4a23014"
  },
  {
   "cell_type": "markdown",
   "source": [
    "Exercici 5\n",
    "Crea una matriu que mostri:\n",
    "• La mitjana de cada característica per espècie.\n",
    "• La desviació estàndard de cada característica per espècie."
   ],
   "metadata": {
    "collapsed": false
   },
   "id": "b41d1ef49872da4c"
  },
  {
   "cell_type": "code",
   "execution_count": 6,
   "outputs": [
    {
     "name": "stdout",
     "output_type": "stream",
     "text": [
      "Matriu que mostra la mitjana i la desviació estàndard per espècie:\n",
      "[[5.006      3.428      1.462      0.246      0.34894699 0.37525458\n",
      "  0.17191859 0.10432641]\n",
      " [5.936      2.77       4.26       1.326      0.51098337 0.31064449\n",
      "  0.46518813 0.19576517]\n",
      " [6.588      2.974      5.552      2.026      0.62948868 0.31925538\n",
      "  0.54634787 0.27188968]]\n"
     ]
    }
   ],
   "source": [
    "import numpy as np\n",
    "from sklearn.datasets import load_iris\n",
    "\n",
    "iris = load_iris()\n",
    "data = iris.data  \n",
    "target = iris.target  \n",
    "\n",
    "species = np.unique(target)  \n",
    "mean_by_species = []\n",
    "std_by_species = []\n",
    "\n",
    "for specie in species:\n",
    "    data_by_specie = data[target == specie]\n",
    "\n",
    "    mean_per_specie = np.mean(data_by_specie, axis=0)\n",
    "    std_per_specie = np.std(data_by_specie, axis=0)\n",
    "\n",
    "    mean_by_species.append(mean_per_specie)\n",
    "    std_by_species.append(std_per_specie)\n",
    "\n",
    "mean_by_species = np.array(mean_by_species)\n",
    "std_by_species = np.array(std_by_species)\n",
    "\n",
    "result_matrix = np.column_stack((mean_by_species, std_by_species))\n",
    "\n",
    "print(\"Matriu que mostra la mitjana i la desviació estàndard per espècie:\")\n",
    "print(result_matrix)"
   ],
   "metadata": {
    "collapsed": false,
    "ExecuteTime": {
     "end_time": "2023-10-05T08:49:33.713962493Z",
     "start_time": "2023-10-05T08:49:33.707021124Z"
    }
   },
   "id": "6d3ee71d8ca65d2d"
  },
  {
   "cell_type": "markdown",
   "source": [
    "Exercici 6\n",
    "• Calcula la quantitat de mostres per espècie.\n",
    "• Troba l'espècie amb el valor màxim mitjana de la variable \"sepal length (cm)\"\n"
   ],
   "metadata": {
    "collapsed": false
   },
   "id": "517f4f065db6a257"
  },
  {
   "cell_type": "code",
   "execution_count": 7,
   "outputs": [
    {
     "name": "stdout",
     "output_type": "stream",
     "text": [
      "Quantitat de mostres per espècie:\n",
      "setosa: 50 mostres\n",
      "versicolor: 50 mostres\n",
      "virginica: 50 mostres\n",
      "\n",
      "Espècie amb la mitjana màxima de 'sepal length (cm)':\n",
      "virginica\n"
     ]
    }
   ],
   "source": [
    "import numpy as np\n",
    "from sklearn.datasets import load_iris\n",
    "\n",
    "iris = load_iris()\n",
    "data = iris.data  \n",
    "target = iris.target  \n",
    "target_names = iris.target_names \n",
    "feature_names = iris.feature_names  \n",
    "\n",
    "samples_per_species = {species: np.sum(target == idx) for idx, species in enumerate(target_names)}\n",
    "\n",
    "print(\"Quantitat de mostres per espècie:\")\n",
    "for species, count in samples_per_species.items():\n",
    "    print(f\"{species}: {count} mostres\")\n",
    "\n",
    "sepal_length_index = feature_names.index('sepal length (cm)')\n",
    "mean_sepal_length_per_species = [np.mean(data[target == idx, sepal_length_index]) for idx in range(len(target_names))]\n",
    "max_mean_sepal_length_species = target_names[np.argmax(mean_sepal_length_per_species)]\n",
    "\n",
    "print(\"Espècie amb la mitjana màxima de 'sepal length (cm)':\")\n",
    "print(max_mean_sepal_length_species)"
   ],
   "metadata": {
    "collapsed": false,
    "ExecuteTime": {
     "end_time": "2023-10-05T08:49:34.647494368Z",
     "start_time": "2023-10-05T08:49:34.643956670Z"
    }
   },
   "id": "6237216a6ac76c31"
  },
  {
   "cell_type": "markdown",
   "source": [
    "Exercici 7\n",
    "• Calcula la matriu de correlació entre les variables.\n",
    "• Filtra els valors majors a la mitjana de la longitud dels pètals i mostra-ho.\n",
    "• Troba la mostra amb els pètals més grans."
   ],
   "metadata": {
    "collapsed": false
   },
   "id": "50de3d41cac388fc"
  },
  {
   "cell_type": "code",
   "execution_count": 4,
   "outputs": [
    {
     "name": "stdout",
     "output_type": "stream",
     "text": [
      "Matriu de correlació entre les variables:\n",
      "[[ 1.         -0.11756978  0.87175378  0.81794113]\n",
      " [-0.11756978  1.         -0.4284401  -0.36612593]\n",
      " [ 0.87175378 -0.4284401   1.          0.96286543]\n",
      " [ 0.81794113 -0.36612593  0.96286543  1.        ]]\n",
      "Valors majors a la mitjana de la longitud dels pètals:\n",
      "[[7.  3.2 4.7 1.4]\n",
      " [6.4 3.2 4.5 1.5]\n",
      " [6.9 3.1 4.9 1.5]\n",
      " [5.5 2.3 4.  1.3]\n",
      " [6.5 2.8 4.6 1.5]\n",
      " [5.7 2.8 4.5 1.3]\n",
      " [6.3 3.3 4.7 1.6]\n",
      " [6.6 2.9 4.6 1.3]\n",
      " [5.2 2.7 3.9 1.4]\n",
      " [5.9 3.  4.2 1.5]\n",
      " [6.  2.2 4.  1. ]\n",
      " [6.1 2.9 4.7 1.4]\n",
      " [6.7 3.1 4.4 1.4]\n",
      " [5.6 3.  4.5 1.5]\n",
      " [5.8 2.7 4.1 1. ]\n",
      " [6.2 2.2 4.5 1.5]\n",
      " [5.6 2.5 3.9 1.1]\n",
      " [5.9 3.2 4.8 1.8]\n",
      " [6.1 2.8 4.  1.3]\n",
      " [6.3 2.5 4.9 1.5]\n",
      " [6.1 2.8 4.7 1.2]\n",
      " [6.4 2.9 4.3 1.3]\n",
      " [6.6 3.  4.4 1.4]\n",
      " [6.8 2.8 4.8 1.4]\n",
      " [6.7 3.  5.  1.7]\n",
      " [6.  2.9 4.5 1.5]\n",
      " [5.5 2.4 3.8 1.1]\n",
      " [5.8 2.7 3.9 1.2]\n",
      " [6.  2.7 5.1 1.6]\n",
      " [5.4 3.  4.5 1.5]\n",
      " [6.  3.4 4.5 1.6]\n",
      " [6.7 3.1 4.7 1.5]\n",
      " [6.3 2.3 4.4 1.3]\n",
      " [5.6 3.  4.1 1.3]\n",
      " [5.5 2.5 4.  1.3]\n",
      " [5.5 2.6 4.4 1.2]\n",
      " [6.1 3.  4.6 1.4]\n",
      " [5.8 2.6 4.  1.2]\n",
      " [5.6 2.7 4.2 1.3]\n",
      " [5.7 3.  4.2 1.2]\n",
      " [5.7 2.9 4.2 1.3]\n",
      " [6.2 2.9 4.3 1.3]\n",
      " [5.7 2.8 4.1 1.3]\n",
      " [6.3 3.3 6.  2.5]\n",
      " [5.8 2.7 5.1 1.9]\n",
      " [7.1 3.  5.9 2.1]\n",
      " [6.3 2.9 5.6 1.8]\n",
      " [6.5 3.  5.8 2.2]\n",
      " [7.6 3.  6.6 2.1]\n",
      " [4.9 2.5 4.5 1.7]\n",
      " [7.3 2.9 6.3 1.8]\n",
      " [6.7 2.5 5.8 1.8]\n",
      " [7.2 3.6 6.1 2.5]\n",
      " [6.5 3.2 5.1 2. ]\n",
      " [6.4 2.7 5.3 1.9]\n",
      " [6.8 3.  5.5 2.1]\n",
      " [5.7 2.5 5.  2. ]\n",
      " [5.8 2.8 5.1 2.4]\n",
      " [6.4 3.2 5.3 2.3]\n",
      " [6.5 3.  5.5 1.8]\n",
      " [7.7 3.8 6.7 2.2]\n",
      " [7.7 2.6 6.9 2.3]\n",
      " [6.  2.2 5.  1.5]\n",
      " [6.9 3.2 5.7 2.3]\n",
      " [5.6 2.8 4.9 2. ]\n",
      " [7.7 2.8 6.7 2. ]\n",
      " [6.3 2.7 4.9 1.8]\n",
      " [6.7 3.3 5.7 2.1]\n",
      " [7.2 3.2 6.  1.8]\n",
      " [6.2 2.8 4.8 1.8]\n",
      " [6.1 3.  4.9 1.8]\n",
      " [6.4 2.8 5.6 2.1]\n",
      " [7.2 3.  5.8 1.6]\n",
      " [7.4 2.8 6.1 1.9]\n",
      " [7.9 3.8 6.4 2. ]\n",
      " [6.4 2.8 5.6 2.2]\n",
      " [6.3 2.8 5.1 1.5]\n",
      " [6.1 2.6 5.6 1.4]\n",
      " [7.7 3.  6.1 2.3]\n",
      " [6.3 3.4 5.6 2.4]\n",
      " [6.4 3.1 5.5 1.8]\n",
      " [6.  3.  4.8 1.8]\n",
      " [6.9 3.1 5.4 2.1]\n",
      " [6.7 3.1 5.6 2.4]\n",
      " [6.9 3.1 5.1 2.3]\n",
      " [5.8 2.7 5.1 1.9]\n",
      " [6.8 3.2 5.9 2.3]\n",
      " [6.7 3.3 5.7 2.5]\n",
      " [6.7 3.  5.2 2.3]\n",
      " [6.3 2.5 5.  1.9]\n",
      " [6.5 3.  5.2 2. ]\n",
      " [6.2 3.4 5.4 2.3]\n",
      " [5.9 3.  5.1 1.8]]\n",
      "Mostra amb els pètals més grans:\n",
      "[7.7 2.6 6.9 2.3]\n"
     ]
    }
   ],
   "source": [
    "import numpy as np\n",
    "from sklearn.datasets import load_iris\n",
    "\n",
    "iris = load_iris()\n",
    "data = iris.data  \n",
    "feature_names = iris.feature_names  \n",
    "\n",
    "correlation_matrix = np.corrcoef(data, rowvar=False)\n",
    "\n",
    "print(\"Matriu de correlació entre les variables:\")\n",
    "print(correlation_matrix)\n",
    "\n",
    "petal_length_index = feature_names.index('petal length (cm)')\n",
    "mean_petal_length = np.mean(data[:, petal_length_index])\n",
    "\n",
    "filtered_data = data[data[:, petal_length_index] > mean_petal_length]\n",
    "\n",
    "print(\"Valors majors a la mitjana de la longitud dels pètals:\")\n",
    "print(filtered_data)\n",
    "\n",
    "max_petal_length_index = np.argmax(data[:, petal_length_index])\n",
    "sample_with_max_petal_length = data[max_petal_length_index]\n",
    "\n",
    "print(\"Mostra amb els pètals més grans:\")\n",
    "print(sample_with_max_petal_length)"
   ],
   "metadata": {
    "collapsed": false,
    "ExecuteTime": {
     "end_time": "2023-10-16T07:32:39.877661097Z",
     "start_time": "2023-10-16T07:32:39.834386873Z"
    }
   },
   "id": "967b4867f0276dba"
  },
  {
   "cell_type": "markdown",
   "source": [
    "Exercici 8\n",
    "Troba l'espècie amb la diferència més gran entre la longitud mitjana de sèpals i pètals."
   ],
   "metadata": {
    "collapsed": false
   },
   "id": "c628a04f4e98f220"
  },
  {
   "cell_type": "code",
   "execution_count": 7,
   "outputs": [
    {
     "name": "stdout",
     "output_type": "stream",
     "text": [
      "L'espècie amb la diferència més gran entre la longitud mitjana de sèpals i pètals és:\n",
      "setosa\n"
     ]
    }
   ],
   "source": [
    "import numpy as np\n",
    "from sklearn.datasets import load_iris\n",
    "\n",
    "iris = load_iris()\n",
    "data = iris.data  \n",
    "feature_names = iris.feature_names \n",
    "target_names = iris.target_names  \n",
    "\n",
    "sepal_length_index = feature_names.index('sepal length (cm)')\n",
    "petal_length_index = feature_names.index('petal length (cm)')\n",
    "\n",
    "mean_sepal_length_per_species = []\n",
    "mean_petal_length_per_species = []\n",
    "\n",
    "for specie in range(len(target_names)):\n",
    "    data_by_specie = data[iris.target == specie]\n",
    "\n",
    "    mean_sepal_length = np.mean(data_by_specie[:, sepal_length_index])\n",
    "    mean_petal_length = np.mean(data_by_specie[:, petal_length_index])\n",
    "\n",
    "    mean_sepal_length_per_species.append(mean_sepal_length)\n",
    "    mean_petal_length_per_species.append(mean_petal_length)\n",
    "\n",
    "max_difference_index = np.argmax(np.abs(np.array(mean_sepal_length_per_species) - np.array(mean_petal_length_per_species)))\n",
    "species_with_max_difference = target_names[max_difference_index]\n",
    "\n",
    "print(\"L'espècie amb la diferència més gran entre la longitud mitjana de sèpals i pètals és:\")\n",
    "print(species_with_max_difference)"
   ],
   "metadata": {
    "collapsed": false,
    "ExecuteTime": {
     "end_time": "2023-10-16T07:33:50.304970969Z",
     "start_time": "2023-10-16T07:33:50.296074448Z"
    }
   },
   "id": "bedda4ec081552f3"
  }
 ],
 "metadata": {
  "kernelspec": {
   "display_name": "Python 3",
   "language": "python",
   "name": "python3"
  },
  "language_info": {
   "codemirror_mode": {
    "name": "ipython",
    "version": 2
   },
   "file_extension": ".py",
   "mimetype": "text/x-python",
   "name": "python",
   "nbconvert_exporter": "python",
   "pygments_lexer": "ipython2",
   "version": "2.7.6"
  }
 },
 "nbformat": 4,
 "nbformat_minor": 5
}
