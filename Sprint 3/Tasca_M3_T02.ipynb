{
 "cells": [
  {
   "cell_type": "raw",
   "source": [
    "Exercici 1\n",
    "Descarrega el data set Airlines Delay: Airline on-time statistics and delay causes i carrega’l a un Pandas Dataframe. Explora les dades que conté, explica breument quines variables hi ha i queda’t únicament amb les columnes que consideris rellevants. Justifica la teva elecció."
   ],
   "metadata": {
    "collapsed": false
   },
   "id": "9d0b0678e0056ebf"
  },
  {
   "cell_type": "code",
   "execution_count": 1,
   "outputs": [
    {
     "name": "stdout",
     "output_type": "stream",
     "text": [
      "<bound method NDFrame.head of          Unnamed: 0  Year  Month  DayofMonth  DayOfWeek  DepTime  CRSDepTime  \\\n",
      "0                 0  2008      1           3          4   2003.0        1955   \n",
      "1                 1  2008      1           3          4    754.0         735   \n",
      "2                 2  2008      1           3          4    628.0         620   \n",
      "3                 4  2008      1           3          4   1829.0        1755   \n",
      "4                 5  2008      1           3          4   1940.0        1915   \n",
      "...             ...   ...    ...         ...        ...      ...         ...   \n",
      "1936753     7009710  2008     12          13          6   1250.0        1220   \n",
      "1936754     7009717  2008     12          13          6    657.0         600   \n",
      "1936755     7009718  2008     12          13          6   1007.0         847   \n",
      "1936756     7009726  2008     12          13          6   1251.0        1240   \n",
      "1936757     7009727  2008     12          13          6   1110.0        1103   \n",
      "\n",
      "         ArrTime  CRSArrTime UniqueCarrier  ...  TaxiIn TaxiOut  Cancelled  \\\n",
      "0         2211.0        2225            WN  ...     4.0     8.0          0   \n",
      "1         1002.0        1000            WN  ...     5.0    10.0          0   \n",
      "2          804.0         750            WN  ...     3.0    17.0          0   \n",
      "3         1959.0        1925            WN  ...     3.0    10.0          0   \n",
      "4         2121.0        2110            WN  ...     4.0    10.0          0   \n",
      "...          ...         ...           ...  ...     ...     ...        ...   \n",
      "1936753   1617.0        1552            DL  ...     9.0    18.0          0   \n",
      "1936754    904.0         749            DL  ...    15.0    34.0          0   \n",
      "1936755   1149.0        1010            DL  ...     8.0    32.0          0   \n",
      "1936756   1446.0        1437            DL  ...    13.0    13.0          0   \n",
      "1936757   1413.0        1418            DL  ...     8.0    11.0          0   \n",
      "\n",
      "         CancellationCode  Diverted  CarrierDelay  WeatherDelay NASDelay  \\\n",
      "0                       N         0           NaN           NaN      NaN   \n",
      "1                       N         0           NaN           NaN      NaN   \n",
      "2                       N         0           NaN           NaN      NaN   \n",
      "3                       N         0           2.0           0.0      0.0   \n",
      "4                       N         0           NaN           NaN      NaN   \n",
      "...                   ...       ...           ...           ...      ...   \n",
      "1936753                 N         0           3.0           0.0      0.0   \n",
      "1936754                 N         0           0.0          57.0     18.0   \n",
      "1936755                 N         0           1.0           0.0     19.0   \n",
      "1936756                 N         0           NaN           NaN      NaN   \n",
      "1936757                 N         0           NaN           NaN      NaN   \n",
      "\n",
      "        SecurityDelay  LateAircraftDelay  \n",
      "0                 NaN                NaN  \n",
      "1                 NaN                NaN  \n",
      "2                 NaN                NaN  \n",
      "3                 0.0               32.0  \n",
      "4                 NaN                NaN  \n",
      "...               ...                ...  \n",
      "1936753           0.0               22.0  \n",
      "1936754           0.0                0.0  \n",
      "1936755           0.0               79.0  \n",
      "1936756           NaN                NaN  \n",
      "1936757           NaN                NaN  \n",
      "\n",
      "[1936758 rows x 30 columns]>\n"
     ]
    }
   ],
   "source": [
    "import pandas as pd \n",
    "\n",
    "delayed_df = pd.read_csv(\"/home/sole/Documents/DS/Sprint_3/DelayedFlights.csv\")\n",
    "print(delayed_df.head)"
   ],
   "metadata": {
    "collapsed": false,
    "ExecuteTime": {
     "end_time": "2023-10-18T07:08:30.787443249Z",
     "start_time": "2023-10-18T07:08:27.667034004Z"
    }
   },
   "id": "initial_id"
  },
  {
   "cell_type": "code",
   "execution_count": 2,
   "outputs": [
    {
     "name": "stdout",
     "output_type": "stream",
     "text": [
      "Unnamed: 0\n",
      "Year\n",
      "Month\n",
      "DayofMonth\n",
      "DayOfWeek\n",
      "DepTime\n",
      "CRSDepTime\n",
      "ArrTime\n",
      "CRSArrTime\n",
      "UniqueCarrier\n",
      "FlightNum\n",
      "TailNum\n",
      "ActualElapsedTime\n",
      "CRSElapsedTime\n",
      "AirTime\n",
      "ArrDelay\n",
      "DepDelay\n",
      "Origin\n",
      "Dest\n",
      "Distance\n",
      "TaxiIn\n",
      "TaxiOut\n",
      "Cancelled\n",
      "CancellationCode\n",
      "Diverted\n",
      "CarrierDelay\n",
      "WeatherDelay\n",
      "NASDelay\n",
      "SecurityDelay\n",
      "LateAircraftDelay\n"
     ]
    }
   ],
   "source": [
    "# per saber quines variables guardar, veurem quines hi ha ara:\n",
    "for column in delayed_df.columns:\n",
    "    print(column)"
   ],
   "metadata": {
    "collapsed": false,
    "ExecuteTime": {
     "end_time": "2023-10-18T07:08:30.789268371Z",
     "start_time": "2023-10-18T07:08:30.787253415Z"
    }
   },
   "id": "96ffbce16286b757"
  },
  {
   "cell_type": "markdown",
   "source": [
    "Com volem treballar amb informació relativa als vols i el retard, trobo pertinent decidir ja quines columnes són les menys relevant per treure-les: \n",
    "Unnamed (irrelevant)\n",
    "TaxiIn (irrelevant)\n",
    "TaxiOut (irrelevant)\n",
    "Cancelled (dades sempre O perquè un vol cancel·lat es considera com endarrerit segons DOT i aerolínies)\n",
    "CancellationCode (dades depend de Cancelled)\n",
    "TailNum (irrelevant)"
   ],
   "metadata": {
    "collapsed": false
   },
   "id": "c791efa801eb9ecc"
  },
  {
   "cell_type": "code",
   "execution_count": 3,
   "outputs": [
    {
     "name": "stdout",
     "output_type": "stream",
     "text": [
      "   Year  Month  DayofMonth  DayOfWeek  DepTime  CRSDepTime  ArrTime  \\\n",
      "0  2008      1           3          4   2003.0        1955   2211.0   \n",
      "1  2008      1           3          4    754.0         735   1002.0   \n",
      "2  2008      1           3          4    628.0         620    804.0   \n",
      "3  2008      1           3          4   1829.0        1755   1959.0   \n",
      "4  2008      1           3          4   1940.0        1915   2121.0   \n",
      "\n",
      "   CRSArrTime  FlightNum  ActualElapsedTime  ...  UniqueCarrier  Origin  Dest  \\\n",
      "0        2225        335              128.0  ...             WN     IAD   TPA   \n",
      "1        1000       3231              128.0  ...             WN     IAD   TPA   \n",
      "2         750        448               96.0  ...             WN     IND   BWI   \n",
      "3        1925       3920               90.0  ...             WN     IND   BWI   \n",
      "4        2110        378              101.0  ...             WN     IND   JAX   \n",
      "\n",
      "   Distance Diverted CarrierDelay WeatherDelay  NASDelay  SecurityDelay  \\\n",
      "0       810        0          NaN          NaN       NaN            NaN   \n",
      "1       810        0          NaN          NaN       NaN            NaN   \n",
      "2       515        0          NaN          NaN       NaN            NaN   \n",
      "3       515        0          2.0          0.0       0.0            0.0   \n",
      "4       688        0          NaN          NaN       NaN            NaN   \n",
      "\n",
      "   LateAircraftDelay  \n",
      "0                NaN  \n",
      "1                NaN  \n",
      "2                NaN  \n",
      "3               32.0  \n",
      "4                NaN  \n",
      "\n",
      "[5 rows x 24 columns]\n"
     ]
    }
   ],
   "source": [
    "#Creo un nou dataframe amb les columnes que vull guardar perquè són les més relevant \n",
    "reduced_df = [ 'Year', 'Month', 'DayofMonth', 'DayOfWeek', 'DepTime', 'CRSDepTime',\n",
    "    'ArrTime', 'CRSArrTime', 'FlightNum',\n",
    "    'ActualElapsedTime', 'CRSElapsedTime', 'AirTime', 'ArrDelay', 'DepDelay','UniqueCarrier',\n",
    "    'Origin', 'Dest', 'Distance', 'Diverted',\n",
    "    'CarrierDelay', 'WeatherDelay', 'NASDelay', 'SecurityDelay', 'LateAircraftDelay']\n",
    "\n",
    "new_delayed_df = delayed_df[reduced_df]\n",
    "print(new_delayed_df.head())"
   ],
   "metadata": {
    "collapsed": false,
    "ExecuteTime": {
     "end_time": "2023-10-18T07:08:30.887953685Z",
     "start_time": "2023-10-18T07:08:30.790454170Z"
    }
   },
   "id": "f1fdf69be1f1b721"
  },
  {
   "cell_type": "raw",
   "source": [
    "Redueix la dimensió del dataset de manera aleatòria per tal d'obtenir un dataset de només 200.000 registres. Tots els exercicis s'han de fer amb aquest dataset reduït."
   ],
   "metadata": {
    "collapsed": false
   },
   "id": "700efd42f4b4122d"
  },
  {
   "cell_type": "code",
   "execution_count": 4,
   "outputs": [
    {
     "name": "stdout",
     "output_type": "stream",
     "text": [
      "Dimensions del nou dataframe: (200000, 24)\n"
     ]
    }
   ],
   "source": [
    "dataset_reduit = 200000\n",
    "final_df = new_delayed_df.sample(n=dataset_reduit, random_state=42)\n",
    "print(\"Dimensions del nou dataframe:\", final_df.shape)"
   ],
   "metadata": {
    "collapsed": false,
    "ExecuteTime": {
     "end_time": "2023-10-18T07:08:31.016062964Z",
     "start_time": "2023-10-18T07:08:30.890808208Z"
    }
   },
   "id": "3da1e1dcb25dcc19"
  },
  {
   "cell_type": "code",
   "execution_count": 15,
   "outputs": [
    {
     "name": "stdout",
     "output_type": "stream",
     "text": [
      "Nou dataset guardat amb exit amb el nom 'reduced_dataset.csv'.\n"
     ]
    }
   ],
   "source": [
    "# Extra: guardo el nou dataset com CSV com a mesura de seguretat\n",
    "final_df.to_csv('reduced_dataset.csv', index=False)  \n",
    "print(\"Nou dataset guardat amb exit amb el nom 'reduced_dataset.csv'.\")"
   ],
   "metadata": {
    "collapsed": false,
    "ExecuteTime": {
     "end_time": "2023-10-18T07:19:01.689626317Z",
     "start_time": "2023-10-18T07:18:59.840214766Z"
    }
   },
   "id": "40cb544f4cc1c6a2"
  },
  {
   "cell_type": "raw",
   "source": [
    "Exercici 2\n",
    "Fes un informe complet del dataset:"
   ],
   "metadata": {
    "collapsed": false
   },
   "id": "cb31c39c41cb5ffa"
  },
  {
   "cell_type": "code",
   "execution_count": 6,
   "outputs": [
    {
     "data": {
      "text/plain": "           Year          Month     DayofMonth      DayOfWeek        DepTime  \\\ncount  200000.0  200000.000000  200000.000000  200000.000000  200000.000000   \nmean     2008.0       6.106975      15.734955       3.983700    1520.114805   \nstd         0.0       3.476865       8.770451       1.995799     450.087506   \nmin      2008.0       1.000000       1.000000       1.000000       1.000000   \n25%      2008.0       3.000000       8.000000       2.000000    1205.000000   \n50%      2008.0       6.000000      16.000000       4.000000    1546.000000   \n75%      2008.0       9.000000      23.000000       6.000000    1901.000000   \nmax      2008.0      12.000000      31.000000       7.000000    2400.000000   \n\n          CRSDepTime        ArrTime     CRSArrTime      FlightNum  \\\ncount  200000.000000  199267.000000  200000.000000  200000.000000   \nmean     1468.567445    1611.293159    1635.514525    2188.548195   \nstd       424.431628     548.219910     464.072463    1944.372086   \nmin         0.000000       1.000000       0.000000       1.000000   \n25%      1135.000000    1317.000000    1325.000000     615.000000   \n50%      1510.000000    1716.000000    1707.000000    1549.000000   \n75%      1817.000000    2031.000000    2015.000000    3423.000000   \nmax      2359.000000    2400.000000    2400.000000    9740.000000   \n\n       ActualElapsedTime  ...        AirTime       ArrDelay       DepDelay  \\\ncount      199127.000000  ...  199127.000000  199127.000000  200000.000000   \nmean          133.222772  ...     108.197070      42.371456      43.319360   \nstd            72.001365  ...      68.472446      57.004644      53.581396   \nmin            15.000000  ...       0.000000     -57.000000       6.000000   \n25%            80.000000  ...      58.000000       9.000000      12.000000   \n50%           116.000000  ...      90.000000      25.000000      24.000000   \n75%           165.000000  ...     137.000000      56.000000      54.000000   \nmax           666.000000  ...     644.000000    2453.000000    2467.000000   \n\n           Distance       Diverted   CarrierDelay   WeatherDelay  \\\ncount  200000.00000  200000.000000  128970.000000  128970.000000   \nmean      764.96174       0.004065      19.197666       3.691052   \nstd       572.85671       0.063628      44.126249      20.863373   \nmin        11.00000       0.000000       0.000000       0.000000   \n25%       340.00000       0.000000       0.000000       0.000000   \n50%       607.00000       0.000000       2.000000       0.000000   \n75%       998.00000       0.000000      21.000000       0.000000   \nmax      4962.00000       1.000000    2436.000000     868.000000   \n\n            NASDelay  SecurityDelay  LateAircraftDelay  \ncount  128970.000000  128970.000000      128970.000000  \nmean       15.002566       0.091223          25.467403  \nstd        33.913939       2.014928          42.275946  \nmin         0.000000       0.000000           0.000000  \n25%         0.000000       0.000000           0.000000  \n50%         2.000000       0.000000           8.000000  \n75%        15.000000       0.000000          34.000000  \nmax      1030.000000     280.000000        1012.000000  \n\n[8 rows x 21 columns]",
      "text/html": "<div>\n<style scoped>\n    .dataframe tbody tr th:only-of-type {\n        vertical-align: middle;\n    }\n\n    .dataframe tbody tr th {\n        vertical-align: top;\n    }\n\n    .dataframe thead th {\n        text-align: right;\n    }\n</style>\n<table border=\"1\" class=\"dataframe\">\n  <thead>\n    <tr style=\"text-align: right;\">\n      <th></th>\n      <th>Year</th>\n      <th>Month</th>\n      <th>DayofMonth</th>\n      <th>DayOfWeek</th>\n      <th>DepTime</th>\n      <th>CRSDepTime</th>\n      <th>ArrTime</th>\n      <th>CRSArrTime</th>\n      <th>FlightNum</th>\n      <th>ActualElapsedTime</th>\n      <th>...</th>\n      <th>AirTime</th>\n      <th>ArrDelay</th>\n      <th>DepDelay</th>\n      <th>Distance</th>\n      <th>Diverted</th>\n      <th>CarrierDelay</th>\n      <th>WeatherDelay</th>\n      <th>NASDelay</th>\n      <th>SecurityDelay</th>\n      <th>LateAircraftDelay</th>\n    </tr>\n  </thead>\n  <tbody>\n    <tr>\n      <th>count</th>\n      <td>200000.0</td>\n      <td>200000.000000</td>\n      <td>200000.000000</td>\n      <td>200000.000000</td>\n      <td>200000.000000</td>\n      <td>200000.000000</td>\n      <td>199267.000000</td>\n      <td>200000.000000</td>\n      <td>200000.000000</td>\n      <td>199127.000000</td>\n      <td>...</td>\n      <td>199127.000000</td>\n      <td>199127.000000</td>\n      <td>200000.000000</td>\n      <td>200000.00000</td>\n      <td>200000.000000</td>\n      <td>128970.000000</td>\n      <td>128970.000000</td>\n      <td>128970.000000</td>\n      <td>128970.000000</td>\n      <td>128970.000000</td>\n    </tr>\n    <tr>\n      <th>mean</th>\n      <td>2008.0</td>\n      <td>6.106975</td>\n      <td>15.734955</td>\n      <td>3.983700</td>\n      <td>1520.114805</td>\n      <td>1468.567445</td>\n      <td>1611.293159</td>\n      <td>1635.514525</td>\n      <td>2188.548195</td>\n      <td>133.222772</td>\n      <td>...</td>\n      <td>108.197070</td>\n      <td>42.371456</td>\n      <td>43.319360</td>\n      <td>764.96174</td>\n      <td>0.004065</td>\n      <td>19.197666</td>\n      <td>3.691052</td>\n      <td>15.002566</td>\n      <td>0.091223</td>\n      <td>25.467403</td>\n    </tr>\n    <tr>\n      <th>std</th>\n      <td>0.0</td>\n      <td>3.476865</td>\n      <td>8.770451</td>\n      <td>1.995799</td>\n      <td>450.087506</td>\n      <td>424.431628</td>\n      <td>548.219910</td>\n      <td>464.072463</td>\n      <td>1944.372086</td>\n      <td>72.001365</td>\n      <td>...</td>\n      <td>68.472446</td>\n      <td>57.004644</td>\n      <td>53.581396</td>\n      <td>572.85671</td>\n      <td>0.063628</td>\n      <td>44.126249</td>\n      <td>20.863373</td>\n      <td>33.913939</td>\n      <td>2.014928</td>\n      <td>42.275946</td>\n    </tr>\n    <tr>\n      <th>min</th>\n      <td>2008.0</td>\n      <td>1.000000</td>\n      <td>1.000000</td>\n      <td>1.000000</td>\n      <td>1.000000</td>\n      <td>0.000000</td>\n      <td>1.000000</td>\n      <td>0.000000</td>\n      <td>1.000000</td>\n      <td>15.000000</td>\n      <td>...</td>\n      <td>0.000000</td>\n      <td>-57.000000</td>\n      <td>6.000000</td>\n      <td>11.00000</td>\n      <td>0.000000</td>\n      <td>0.000000</td>\n      <td>0.000000</td>\n      <td>0.000000</td>\n      <td>0.000000</td>\n      <td>0.000000</td>\n    </tr>\n    <tr>\n      <th>25%</th>\n      <td>2008.0</td>\n      <td>3.000000</td>\n      <td>8.000000</td>\n      <td>2.000000</td>\n      <td>1205.000000</td>\n      <td>1135.000000</td>\n      <td>1317.000000</td>\n      <td>1325.000000</td>\n      <td>615.000000</td>\n      <td>80.000000</td>\n      <td>...</td>\n      <td>58.000000</td>\n      <td>9.000000</td>\n      <td>12.000000</td>\n      <td>340.00000</td>\n      <td>0.000000</td>\n      <td>0.000000</td>\n      <td>0.000000</td>\n      <td>0.000000</td>\n      <td>0.000000</td>\n      <td>0.000000</td>\n    </tr>\n    <tr>\n      <th>50%</th>\n      <td>2008.0</td>\n      <td>6.000000</td>\n      <td>16.000000</td>\n      <td>4.000000</td>\n      <td>1546.000000</td>\n      <td>1510.000000</td>\n      <td>1716.000000</td>\n      <td>1707.000000</td>\n      <td>1549.000000</td>\n      <td>116.000000</td>\n      <td>...</td>\n      <td>90.000000</td>\n      <td>25.000000</td>\n      <td>24.000000</td>\n      <td>607.00000</td>\n      <td>0.000000</td>\n      <td>2.000000</td>\n      <td>0.000000</td>\n      <td>2.000000</td>\n      <td>0.000000</td>\n      <td>8.000000</td>\n    </tr>\n    <tr>\n      <th>75%</th>\n      <td>2008.0</td>\n      <td>9.000000</td>\n      <td>23.000000</td>\n      <td>6.000000</td>\n      <td>1901.000000</td>\n      <td>1817.000000</td>\n      <td>2031.000000</td>\n      <td>2015.000000</td>\n      <td>3423.000000</td>\n      <td>165.000000</td>\n      <td>...</td>\n      <td>137.000000</td>\n      <td>56.000000</td>\n      <td>54.000000</td>\n      <td>998.00000</td>\n      <td>0.000000</td>\n      <td>21.000000</td>\n      <td>0.000000</td>\n      <td>15.000000</td>\n      <td>0.000000</td>\n      <td>34.000000</td>\n    </tr>\n    <tr>\n      <th>max</th>\n      <td>2008.0</td>\n      <td>12.000000</td>\n      <td>31.000000</td>\n      <td>7.000000</td>\n      <td>2400.000000</td>\n      <td>2359.000000</td>\n      <td>2400.000000</td>\n      <td>2400.000000</td>\n      <td>9740.000000</td>\n      <td>666.000000</td>\n      <td>...</td>\n      <td>644.000000</td>\n      <td>2453.000000</td>\n      <td>2467.000000</td>\n      <td>4962.00000</td>\n      <td>1.000000</td>\n      <td>2436.000000</td>\n      <td>868.000000</td>\n      <td>1030.000000</td>\n      <td>280.000000</td>\n      <td>1012.000000</td>\n    </tr>\n  </tbody>\n</table>\n<p>8 rows × 21 columns</p>\n</div>"
     },
     "execution_count": 6,
     "metadata": {},
     "output_type": "execute_result"
    }
   ],
   "source": [
    "# Resumeix estadísticament el dataset i les columnes d’interès. Fes una anàlisi estadística del que consideris rellevant.\n",
    "final_df.describe()"
   ],
   "metadata": {
    "collapsed": false,
    "ExecuteTime": {
     "end_time": "2023-10-18T07:08:32.127601354Z",
     "start_time": "2023-10-18T07:08:31.977679385Z"
    }
   },
   "id": "de3bd00715ee5b69"
  },
  {
   "cell_type": "code",
   "execution_count": 7,
   "outputs": [
    {
     "name": "stdout",
     "output_type": "stream",
     "text": [
      "Dades faltant per columna:\n",
      "Year                     0\n",
      "Month                    0\n",
      "DayofMonth               0\n",
      "DayOfWeek                0\n",
      "DepTime                  0\n",
      "CRSDepTime               0\n",
      "ArrTime                733\n",
      "CRSArrTime               0\n",
      "FlightNum                0\n",
      "ActualElapsedTime      873\n",
      "CRSElapsedTime          26\n",
      "AirTime                873\n",
      "ArrDelay               873\n",
      "DepDelay                 0\n",
      "UniqueCarrier            0\n",
      "Origin                   0\n",
      "Dest                     0\n",
      "Distance                 0\n",
      "Diverted                 0\n",
      "CarrierDelay         71030\n",
      "WeatherDelay         71030\n",
      "NASDelay             71030\n",
      "SecurityDelay        71030\n",
      "LateAircraftDelay    71030\n",
      "dtype: int64\n"
     ]
    }
   ],
   "source": [
    "# Troba quantes dades faltant hi ha per columna.\n",
    "dades_faltant_per_columna = final_df.isnull().sum()\n",
    "\n",
    "print(\"Dades faltant per columna:\")\n",
    "print(dades_faltant_per_columna)"
   ],
   "metadata": {
    "collapsed": false,
    "ExecuteTime": {
     "end_time": "2023-10-18T07:08:32.141808023Z",
     "start_time": "2023-10-18T07:08:32.122576187Z"
    }
   },
   "id": "a88165d51c700302"
  },
  {
   "cell_type": "code",
   "execution_count": 8,
   "outputs": [
    {
     "name": "stdout",
     "output_type": "stream",
     "text": [
      "Percentatge de vols amb retard al 2008: 89.08%\n",
      "         Year  Month  DayofMonth  DayOfWeek  DepTime  CRSDepTime  ArrTime  \\\n",
      "1782417  2008     12           6          6   1805.0        1755   2146.0   \n",
      "512712   2008      3          23          7   2120.0        1200   2241.0   \n",
      "447137   2008      3          31          1   1731.0        1710   1819.0   \n",
      "55082    2008      1           6          7   1507.0        1413   1601.0   \n",
      "877634   2008      5          22          4    637.0         630    812.0   \n",
      "\n",
      "         CRSArrTime  FlightNum  ActualElapsedTime  ...  Dest  Distance  \\\n",
      "1782417        2035       7281              281.0  ...   AUS      1297   \n",
      "512712         1333        131               81.0  ...   MSP       334   \n",
      "447137         1810       3676               48.0  ...   PIH       150   \n",
      "55082          1509       6573               54.0  ...   DEN       142   \n",
      "877634          750       1869              155.0  ...   IAH       817   \n",
      "\n",
      "         Diverted  CarrierDelay WeatherDelay NASDelay SecurityDelay  \\\n",
      "1782417         0          71.0          0.0      0.0           0.0   \n",
      "512712          0         543.0          0.0      0.0           0.0   \n",
      "447137          0           NaN          NaN      NaN           NaN   \n",
      "55082           0           0.0          0.0      0.0           0.0   \n",
      "877634          0           0.0          0.0     15.0           7.0   \n",
      "\n",
      "         LateAircraftDelay  VelocitatMitjana  ArribatTard  \n",
      "1782417                0.0          7.327684            1  \n",
      "512712                 5.0          6.072727            1  \n",
      "447137                 NaN          3.409091            0  \n",
      "55082                 52.0          4.437500            1  \n",
      "877634                 0.0          6.097015            1  \n",
      "\n",
      "[5 rows x 26 columns]\n"
     ]
    }
   ],
   "source": [
    "# Crea columnes noves:\n",
    "# Velocitat mitjana del vol (milles per minut)\n",
    "final_df['VelocitatMitjana'] = final_df['Distance'] / final_df['AirTime']\n",
    "\n",
    "# Afegim una nova columna 'ArribatTard' amb valor 1 si té més de 15 minuts de retard, 0 si no)\n",
    "final_df['ArribatTard'] = (final_df['ArrDelay'] > 15).astype(int)\n",
    "\n",
    "# Comptem el nombre de vols amb retard (assumint que un vol amb retard té retard > 0)\n",
    "nombre_vols_amb_retard = len(final_df[final_df['ArrDelay'] > 0])\n",
    "nombre_total_vols = len(final_df)\n",
    "percentatge_vols_amb_retard = (nombre_vols_amb_retard / nombre_total_vols) * 100\n",
    "# Mostrem el percentatge\n",
    "print(f\"Percentatge de vols amb retard al 2008: {percentatge_vols_amb_retard:.2f}%\")\n",
    "\n",
    "print(final_df.head())"
   ],
   "metadata": {
    "collapsed": false,
    "ExecuteTime": {
     "end_time": "2023-10-18T07:08:32.186157649Z",
     "start_time": "2023-10-18T07:08:32.144072503Z"
    }
   },
   "id": "fe8b2981981e5562"
  },
  {
   "cell_type": "code",
   "execution_count": 9,
   "outputs": [
    {
     "name": "stdout",
     "output_type": "stream",
     "text": [
      "Aerolínies amb més endarreriments acumulats en 2008:\n",
      "               TotalDelayMinutes  TotalDelayHours  TotalDelayDays  \\\n",
      "UniqueCarrier                                                       \n",
      "WN                    2530856.00         42180.93         1757.54   \n",
      "AA                    1818809.00         30313.48         1263.06   \n",
      "UA                    1425836.00         23763.93          990.16   \n",
      "MQ                    1308289.00         21804.82          908.53   \n",
      "OO                    1229193.00         20486.55          853.61   \n",
      "XE                    1084167.00         18069.45          752.89   \n",
      "DL                     927018.00         15450.30          643.76   \n",
      "CO                     876873.00         14614.55          608.94   \n",
      "EV                     812869.00         13547.82          564.49   \n",
      "US                     779403.00         12990.05          541.25   \n",
      "YV                     762343.00         12705.72          529.40   \n",
      "NW                     665765.00         11096.08          462.34   \n",
      "FL                     639191.00         10653.18          443.88   \n",
      "B6                     629624.00         10493.73          437.24   \n",
      "OH                     535930.00          8932.17          372.17   \n",
      "9E                     492582.00          8209.70          342.07   \n",
      "AS                     301652.00          5027.53          209.48   \n",
      "F9                     167579.00          2792.98          116.37   \n",
      "HA                      55042.00           917.37           38.22   \n",
      "AQ                       3650.00            60.83            2.53   \n",
      "\n",
      "               TotalDelayWeeks  TotalDelayMonths  \n",
      "UniqueCarrier                                     \n",
      "WN                      251.08             58.58  \n",
      "AA                      180.44             42.10  \n",
      "UA                      141.45             33.01  \n",
      "MQ                      129.79             30.28  \n",
      "OO                      121.94             28.45  \n",
      "XE                      107.56             25.10  \n",
      "DL                       91.97             21.46  \n",
      "CO                       86.99             20.30  \n",
      "EV                       80.64             18.82  \n",
      "US                       77.32             18.04  \n",
      "YV                       75.63             17.65  \n",
      "NW                       66.05             15.41  \n",
      "FL                       63.41             14.80  \n",
      "B6                       62.46             14.57  \n",
      "OH                       53.17             12.41  \n",
      "9E                       48.87             11.40  \n",
      "AS                       29.93              6.98  \n",
      "F9                       16.62              3.88  \n",
      "HA                        5.46              1.27  \n",
      "AQ                        0.36              0.08  \n"
     ]
    }
   ],
   "source": [
    "# Crear una taula de les aerolínies amb més endarreriments acumulats: per facilitar la lectura, he fet que es pugui veure el temps en minuts, hores, dies, setmanes i mesos: \n",
    "final_df['TotalDelayMinutes'] = final_df['ArrDelay'] + final_df['DepDelay']\n",
    "final_df['TotalDelayHours'] = final_df['TotalDelayMinutes'] / 60 #minuts\n",
    "final_df['TotalDelayDays'] = final_df['TotalDelayHours'] / 24  # dies\n",
    "final_df['TotalDelayWeeks'] = final_df['TotalDelayHours'] / 168  # setmanes\n",
    "final_df['TotalDelayMonths'] = final_df['TotalDelayHours'] / (30 * 24)  # mesos (mes de 30 díes)\n",
    "\n",
    "# Agrupar per aerolínia i calcular l'endarreriment total per cada aerolínia:\n",
    "airline_delays = final_df.groupby('UniqueCarrier')[['TotalDelayMinutes', 'TotalDelayHours', 'TotalDelayDays', 'TotalDelayWeeks', 'TotalDelayMonths']].sum()\n",
    "\n",
    "# Codi trobat perque els numeros es puguin llegir sense notació cientifica\n",
    "pd.set_option('display.float_format', '{:.2f}'.format)\n",
    "\n",
    "# Mostra la taula de les companyies aèries amb més retards acumulats, arrodonint a dos decimals\n",
    "rounded_airline_delays = airline_delays.round(2)\n",
    "print(\"Aerolínies amb més endarreriments acumulats en 2008:\")\n",
    "print(rounded_airline_delays.sort_values(by='TotalDelayMinutes', ascending=False))"
   ],
   "metadata": {
    "collapsed": false,
    "ExecuteTime": {
     "end_time": "2023-10-18T07:08:32.310780446Z",
     "start_time": "2023-10-18T07:08:32.168033179Z"
    }
   },
   "id": "826c659532f2e80c"
  },
  {
   "cell_type": "code",
   "execution_count": 10,
   "outputs": [
    {
     "name": "stdout",
     "output_type": "stream",
     "text": [
      "\n",
      "Ruta més llarga (distància en quilòmetres):\n",
      "Origin  Dest\n",
      "SFO     JFK    1061247.08\n",
      "LAX     JFK    1015694.71\n",
      "JFK     LAX     900184.33\n",
      "LAX     ORD     814406.51\n",
      "JFK     SFO     803218.38\n",
      "ORD     LAX     777898.63\n",
      "        SFO     721914.52\n",
      "EWR     LAX     655587.18\n",
      "SFO     ORD     638730.95\n",
      "ATL     LAX     626355.13\n",
      "Name: DistanceKm, dtype: float64\n",
      "\n",
      "Ruta més llarga (distància en milles):\n",
      "Origin  Dest\n",
      "SFO     JFK     659430\n",
      "LAX     JFK     631125\n",
      "JFK     LAX     559350\n",
      "LAX     ORD     506050\n",
      "JFK     SFO     499098\n",
      "ORD     LAX     483365\n",
      "        SFO     448578\n",
      "EWR     LAX     407364\n",
      "SFO     ORD     396890\n",
      "ATL     LAX     389200\n",
      "Name: Distance, dtype: int64\n",
      "\n",
      "Rutes més endarrerides (per endarreriment total):\n",
      "Origin  Dest\n",
      "ORD     LGA    49639.00\n",
      "        EWR    48393.00\n",
      "LAX     SFO    44038.00\n",
      "ATL     EWR    41557.00\n",
      "LGA     ORD    40574.00\n",
      "SFO     LAX    39067.00\n",
      "ATL     LGA    37122.00\n",
      "LGA     ATL    35851.00\n",
      "EWR     ORD    35217.00\n",
      "        ATL    32774.00\n",
      "Name: TotalDelay, dtype: float64\n"
     ]
    }
   ],
   "source": [
    "# Calcular la distància total per ruta (combinant origen i destinació)\n",
    "distancia_total_per_ruta = final_df.groupby(['Origin', 'Dest'])['Distance'].sum()\n",
    "\n",
    "# Trobar la ruta més llarga (amb distància màxima)\n",
    "ruta_mes_llarga = distancia_total_per_ruta.nlargest(10)\n",
    "\n",
    "# Calcular l'endarreriment total per ruta\n",
    "endarreriment_total_per_ruta = final_df.groupby(['Origin', 'Dest'])[['ArrDelay', 'DepDelay']].sum()\n",
    "\n",
    "# Calcular la distància total per ruta (combinant origen i destí) en quilòmetres\n",
    "final_df['DistanceKm'] = final_df['Distance'] * 1.60934\n",
    "distancia_total_per_ruta_km = final_df.groupby(['Origin', 'Dest'])['DistanceKm'].sum()\n",
    "\n",
    "# Trobar la ruta més llarga (amb distància máxima) en kms\n",
    "ruta_mes_llarga_km = distancia_total_per_ruta_km.nlargest(10)\n",
    "\n",
    "print(\"\\nRuta més llarga (distància en quilòmetres):\")\n",
    "print(ruta_mes_llarga_km)\n",
    "\n",
    "# Calcular l'endarreriment total (suma dels endarreriments d'arribada i sortida) per ruta\n",
    "endarreriment_total_per_ruta['TotalDelay'] = endarreriment_total_per_ruta.sum(axis=1)\n",
    "\n",
    "# Trobar les rutes més endarrerides (amb endarreriment total màxim) \n",
    "ruta_mes_endarrerida = endarreriment_total_per_ruta['TotalDelay'].groupby(['Origin', 'Dest']).sum().nlargest(10)\n",
    "\n",
    "print(\"\\nRuta més llarga (distància en milles):\")\n",
    "print(ruta_mes_llarga)\n",
    "print(\"\\nRutes més endarrerides (per endarreriment total):\")\n",
    "print(ruta_mes_endarrerida)"
   ],
   "metadata": {
    "collapsed": false,
    "ExecuteTime": {
     "end_time": "2023-10-18T07:08:32.354349729Z",
     "start_time": "2023-10-18T07:08:32.226463103Z"
    }
   },
   "id": "e1f1a838f0b576c7"
  },
  {
   "cell_type": "code",
   "execution_count": 14,
   "outputs": [
    {
     "name": "stdout",
     "output_type": "stream",
     "text": [
      "Dataset exportat amb èxit a Excel.\n"
     ]
    }
   ],
   "source": [
    "# Exporta el dataset net i amb les noves columnes a Excel.\n",
    "ruta_arxiu_excel = \"/home/sole/Documents/DS/Sprint_3/final_dataset.xlsx\"\n",
    "final_df.to_excel(ruta_arxiu_excel, index=False)\n",
    "print('Dataset exportat amb èxit a Excel.')"
   ],
   "metadata": {
    "collapsed": false,
    "ExecuteTime": {
     "end_time": "2023-10-18T07:16:31.956504926Z",
     "start_time": "2023-10-18T07:15:27.428692320Z"
    }
   },
   "id": "50bf6411263112ba"
  }
 ],
 "metadata": {
  "kernelspec": {
   "display_name": "Python 3",
   "language": "python",
   "name": "python3"
  },
  "language_info": {
   "codemirror_mode": {
    "name": "ipython",
    "version": 2
   },
   "file_extension": ".py",
   "mimetype": "text/x-python",
   "name": "python",
   "nbconvert_exporter": "python",
   "pygments_lexer": "ipython2",
   "version": "2.7.6"
  }
 },
 "nbformat": 4,
 "nbformat_minor": 5
}
