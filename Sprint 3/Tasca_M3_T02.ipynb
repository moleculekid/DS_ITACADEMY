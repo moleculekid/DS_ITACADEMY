{
 "cells": [
  {
   "cell_type": "raw",
   "source": [
    "Exercici 1\n",
    "Descarrega el data set Airlines Delay: Airline on-time statistics and delay causes i carrega’l a un Pandas Dataframe. Explora les dades que conté, explica breument quines variables hi ha i queda’t únicament amb les columnes que consideris rellevants. Justifica la teva elecció."
   ],
   "metadata": {
    "collapsed": false
   },
   "id": "9d0b0678e0056ebf"
  },
  {
   "cell_type": "code",
   "execution_count": 2,
   "outputs": [
    {
     "name": "stdout",
     "output_type": "stream",
     "text": [
      "<bound method NDFrame.head of          Unnamed: 0  Year  Month  DayofMonth  DayOfWeek  DepTime  CRSDepTime  \\\n",
      "0                 0  2008      1           3          4   2003.0        1955   \n",
      "1                 1  2008      1           3          4    754.0         735   \n",
      "2                 2  2008      1           3          4    628.0         620   \n",
      "3                 4  2008      1           3          4   1829.0        1755   \n",
      "4                 5  2008      1           3          4   1940.0        1915   \n",
      "...             ...   ...    ...         ...        ...      ...         ...   \n",
      "1936753     7009710  2008     12          13          6   1250.0        1220   \n",
      "1936754     7009717  2008     12          13          6    657.0         600   \n",
      "1936755     7009718  2008     12          13          6   1007.0         847   \n",
      "1936756     7009726  2008     12          13          6   1251.0        1240   \n",
      "1936757     7009727  2008     12          13          6   1110.0        1103   \n",
      "\n",
      "         ArrTime  CRSArrTime UniqueCarrier  ...  TaxiIn TaxiOut  Cancelled  \\\n",
      "0         2211.0        2225            WN  ...     4.0     8.0          0   \n",
      "1         1002.0        1000            WN  ...     5.0    10.0          0   \n",
      "2          804.0         750            WN  ...     3.0    17.0          0   \n",
      "3         1959.0        1925            WN  ...     3.0    10.0          0   \n",
      "4         2121.0        2110            WN  ...     4.0    10.0          0   \n",
      "...          ...         ...           ...  ...     ...     ...        ...   \n",
      "1936753   1617.0        1552            DL  ...     9.0    18.0          0   \n",
      "1936754    904.0         749            DL  ...    15.0    34.0          0   \n",
      "1936755   1149.0        1010            DL  ...     8.0    32.0          0   \n",
      "1936756   1446.0        1437            DL  ...    13.0    13.0          0   \n",
      "1936757   1413.0        1418            DL  ...     8.0    11.0          0   \n",
      "\n",
      "         CancellationCode  Diverted  CarrierDelay  WeatherDelay NASDelay  \\\n",
      "0                       N         0           NaN           NaN      NaN   \n",
      "1                       N         0           NaN           NaN      NaN   \n",
      "2                       N         0           NaN           NaN      NaN   \n",
      "3                       N         0           2.0           0.0      0.0   \n",
      "4                       N         0           NaN           NaN      NaN   \n",
      "...                   ...       ...           ...           ...      ...   \n",
      "1936753                 N         0           3.0           0.0      0.0   \n",
      "1936754                 N         0           0.0          57.0     18.0   \n",
      "1936755                 N         0           1.0           0.0     19.0   \n",
      "1936756                 N         0           NaN           NaN      NaN   \n",
      "1936757                 N         0           NaN           NaN      NaN   \n",
      "\n",
      "        SecurityDelay  LateAircraftDelay  \n",
      "0                 NaN                NaN  \n",
      "1                 NaN                NaN  \n",
      "2                 NaN                NaN  \n",
      "3                 0.0               32.0  \n",
      "4                 NaN                NaN  \n",
      "...               ...                ...  \n",
      "1936753           0.0               22.0  \n",
      "1936754           0.0                0.0  \n",
      "1936755           0.0               79.0  \n",
      "1936756           NaN                NaN  \n",
      "1936757           NaN                NaN  \n",
      "\n",
      "[1936758 rows x 30 columns]>\n"
     ]
    }
   ],
   "source": [
    "import pandas as pd \n",
    "import numpy as np\n",
    "\n",
    "delayed_df = pd.read_csv(\"/home/sole/Documents/DS/Sprint 3/DelayedFlights.csv\")\n",
    "print(delayed_df.head)"
   ],
   "metadata": {
    "collapsed": false,
    "ExecuteTime": {
     "end_time": "2023-11-08T08:13:48.687369658Z",
     "start_time": "2023-11-08T08:13:44.552988028Z"
    }
   },
   "id": "initial_id"
  },
  {
   "cell_type": "code",
   "execution_count": 3,
   "outputs": [
    {
     "name": "stdout",
     "output_type": "stream",
     "text": [
      "<class 'pandas.core.frame.DataFrame'>\n",
      "RangeIndex: 1936758 entries, 0 to 1936757\n",
      "Data columns (total 30 columns):\n",
      " #   Column             Dtype  \n",
      "---  ------             -----  \n",
      " 0   Unnamed: 0         int64  \n",
      " 1   Year               int64  \n",
      " 2   Month              int64  \n",
      " 3   DayofMonth         int64  \n",
      " 4   DayOfWeek          int64  \n",
      " 5   DepTime            float64\n",
      " 6   CRSDepTime         int64  \n",
      " 7   ArrTime            float64\n",
      " 8   CRSArrTime         int64  \n",
      " 9   UniqueCarrier      object \n",
      " 10  FlightNum          int64  \n",
      " 11  TailNum            object \n",
      " 12  ActualElapsedTime  float64\n",
      " 13  CRSElapsedTime     float64\n",
      " 14  AirTime            float64\n",
      " 15  ArrDelay           float64\n",
      " 16  DepDelay           float64\n",
      " 17  Origin             object \n",
      " 18  Dest               object \n",
      " 19  Distance           int64  \n",
      " 20  TaxiIn             float64\n",
      " 21  TaxiOut            float64\n",
      " 22  Cancelled          int64  \n",
      " 23  CancellationCode   object \n",
      " 24  Diverted           int64  \n",
      " 25  CarrierDelay       float64\n",
      " 26  WeatherDelay       float64\n",
      " 27  NASDelay           float64\n",
      " 28  SecurityDelay      float64\n",
      " 29  LateAircraftDelay  float64\n",
      "dtypes: float64(14), int64(11), object(5)\n",
      "memory usage: 443.3+ MB\n"
     ]
    }
   ],
   "source": [
    "delayed_df.info()"
   ],
   "metadata": {
    "collapsed": false,
    "ExecuteTime": {
     "end_time": "2023-11-08T08:13:48.698470158Z",
     "start_time": "2023-11-08T08:13:48.694824665Z"
    }
   },
   "id": "c8a976e59700aa33"
  },
  {
   "cell_type": "code",
   "execution_count": 4,
   "outputs": [
    {
     "name": "stdout",
     "output_type": "stream",
     "text": [
      "<class 'pandas.core.frame.DataFrame'>\n",
      "Int64Index: 200000 entries, 611327 to 42432\n",
      "Data columns (total 30 columns):\n",
      " #   Column             Non-Null Count   Dtype  \n",
      "---  ------             --------------   -----  \n",
      " 0   Unnamed: 0         200000 non-null  int64  \n",
      " 1   Year               200000 non-null  int64  \n",
      " 2   Month              200000 non-null  int64  \n",
      " 3   DayofMonth         200000 non-null  int64  \n",
      " 4   DayOfWeek          200000 non-null  int64  \n",
      " 5   DepTime            200000 non-null  float64\n",
      " 6   CRSDepTime         200000 non-null  int64  \n",
      " 7   ArrTime            199269 non-null  float64\n",
      " 8   CRSArrTime         200000 non-null  int64  \n",
      " 9   UniqueCarrier      200000 non-null  object \n",
      " 10  FlightNum          200000 non-null  int64  \n",
      " 11  TailNum            199999 non-null  object \n",
      " 12  ActualElapsedTime  199143 non-null  float64\n",
      " 13  CRSElapsedTime     199976 non-null  float64\n",
      " 14  AirTime            199143 non-null  float64\n",
      " 15  ArrDelay           199143 non-null  float64\n",
      " 16  DepDelay           200000 non-null  float64\n",
      " 17  Origin             200000 non-null  object \n",
      " 18  Dest               200000 non-null  object \n",
      " 19  Distance           200000 non-null  int64  \n",
      " 20  TaxiIn             199269 non-null  float64\n",
      " 21  TaxiOut            199946 non-null  float64\n",
      " 22  Cancelled          200000 non-null  int64  \n",
      " 23  CancellationCode   200000 non-null  object \n",
      " 24  Diverted           200000 non-null  int64  \n",
      " 25  CarrierDelay       128751 non-null  float64\n",
      " 26  WeatherDelay       128751 non-null  float64\n",
      " 27  NASDelay           128751 non-null  float64\n",
      " 28  SecurityDelay      128751 non-null  float64\n",
      " 29  LateAircraftDelay  128751 non-null  float64\n",
      "dtypes: float64(14), int64(11), object(5)\n",
      "memory usage: 47.3+ MB\n"
     ]
    }
   ],
   "source": [
    "# reduïm els registres a analitzar a 200.000\n",
    "delayed_df_red = delayed_df.sample(n=200000)\n",
    "(delayed_df_red.info())"
   ],
   "metadata": {
    "collapsed": false,
    "ExecuteTime": {
     "end_time": "2023-11-08T08:13:48.946074222Z",
     "start_time": "2023-11-08T08:13:48.698982359Z"
    }
   },
   "id": "3f9b5057f3ffe1fc"
  },
  {
   "cell_type": "markdown",
   "source": [
    "*Breu descripció de les columnes:*\n",
    "- Unnamed: índex dels registres.\n",
    "- Year: Any del registre.\n",
    "- Month: Mes del registre en format numèric.\n",
    "- DayofMonth: Dia del mes del registre en format numèric.\n",
    "- DayOfWeek: Dia de la setmana del registre en format numèric.\n",
    "- DepTime: Hora local de sortida del vol (hhmm).\n",
    "- CRSDepTime: Hora local prevista de sortida del vol (hhmm).\n",
    "- ArrTime: Hora local d'arribada del vol (hhmm).\n",
    "- CRSArrTime: Hora local prevista d'arribada del vol(hhmm).\n",
    "- UniqueCarrier: Identificació abreujada de la companyia.\n",
    "- FlightNum: Número de vol.\n",
    "- TailNum: Número de cua del vol.\n",
    "- ActualElapsedTime: Temps transcorregut de vol en minuts.\n",
    "- CRSElapsedTime: Temps previst de vol en minuts.\n",
    "- AirTime: Temps de vol en minuts(en aire).\n",
    "- ArrDelay: Temps de retard arribada en minuts.\n",
    "- DepDelay: Temps de retard sortida en minuts.\n",
    "- Origin: codi aeroport d'origen.\n",
    "- Dest: Codi aeroport de destinació.\n",
    "- Distance: Distància en milles.\n",
    "- TaxiIn: Rodatge de l'avió porta embarcament-pista d'enlairament en minuts.\n",
    "- TaxiOut: Rodatge de l'avió pista d'enlairament-porta d'embarcament en minuts.\n",
    "- Cancelled: Indicador de vol cancel·lat (1= yes, 0= no).\n",
    "- CancellationCode: Raó de la cancel·lació (A = carrier, B = weather, C = NAS, D = security).\n",
    "- Diverted: Indicador de vol desviat (1= yes, 0= no).\n",
    "- CarrierDelay: Retard causa Carrier en minuts.\n",
    "- WeatherDelay: Retard causa Weather en minuts.\n",
    "- NASDelay: Retard causa NAS en minuts.\n",
    "- SecurityDelay: Retard causa Security en minuts.\n",
    "- LateAircraftDelay: Retard causa LateAircraft en minuts.\n",
    "\n",
    "*Columnes a eliminar i explicació*\n",
    "- Unnamed: 0, és una columna amb informació repetida.\n",
    "- DepTime, CRSDepTime, ArrTime i CRSArrTime es poden esborrar ja que ja tenim columnes que ens indiquen el temps emprat als vols (ActualElapsedTime i CRSElapsedTime).\n",
    "- Podem eliminar també els camps TaxiIn i TaxiOut, ja que no són rellevants en el càlcul total del retard.\n",
    "- CancellationCode es pot esborrar, ja que per als motius de l'exercici només cal saber si el vol ha estat cancel·lat, però no en necessitem la causa."
   ],
   "metadata": {
    "collapsed": false
   },
   "id": "4303b5ac883f778c"
  },
  {
   "cell_type": "code",
   "execution_count": 5,
   "outputs": [],
   "source": [
    "# esborrem les columnes que no necessitem\n",
    "delayed_df_red.drop(['Unnamed: 0','Year','Month','DayOfWeek','DayofMonth','DepTime','CRSDepTime','ArrTime','CRSArrTime','CancellationCode','TaxiIn','TaxiOut'],axis=1,inplace=True)"
   ],
   "metadata": {
    "collapsed": false,
    "ExecuteTime": {
     "end_time": "2023-11-08T08:13:50.253504322Z",
     "start_time": "2023-11-08T08:13:50.235592589Z"
    }
   },
   "id": "f5e0ad0f2ebb3fe"
  },
  {
   "cell_type": "code",
   "execution_count": 6,
   "outputs": [
    {
     "data": {
      "text/plain": "        UniqueCarrier  FlightNum TailNum  ActualElapsedTime  CRSElapsedTime  \\\n611327             YV       7212  N571ML              113.0           108.0   \n1479056            DL       1600  N912DL               59.0            69.0   \n50882              OH       5363  N811CA              145.0           167.0   \n266826             UA       1603  N494UA              175.0           151.0   \n1268022            WN       1943  N255WN              205.0           145.0   \n\n         AirTime  ArrDelay  DepDelay Origin Dest  Distance  Cancelled  \\\n611327      84.0     284.0     279.0    ORD  MDT       594          0   \n1479056     40.0      22.0      32.0    ATL  CHS       259          0   \n50882      130.0      -2.0      20.0    CVG  IAH       871          0   \n266826     134.0      42.0      18.0    DEN  MSY      1062          0   \n1268022    121.0     104.0      44.0    MHT  MDW       838          0   \n\n         Diverted  CarrierDelay  WeatherDelay  NASDelay  SecurityDelay  \\\n611327          0           0.0           0.0       5.0            0.0   \n1479056         0          22.0           0.0       0.0            0.0   \n50882           0           NaN           NaN       NaN            NaN   \n266826          0           0.0          18.0      24.0            0.0   \n1268022         0           0.0           0.0      60.0            0.0   \n\n         LateAircraftDelay  \n611327               279.0  \n1479056                0.0  \n50882                  NaN  \n266826                 0.0  \n1268022               44.0  ",
      "text/html": "<div>\n<style scoped>\n    .dataframe tbody tr th:only-of-type {\n        vertical-align: middle;\n    }\n\n    .dataframe tbody tr th {\n        vertical-align: top;\n    }\n\n    .dataframe thead th {\n        text-align: right;\n    }\n</style>\n<table border=\"1\" class=\"dataframe\">\n  <thead>\n    <tr style=\"text-align: right;\">\n      <th></th>\n      <th>UniqueCarrier</th>\n      <th>FlightNum</th>\n      <th>TailNum</th>\n      <th>ActualElapsedTime</th>\n      <th>CRSElapsedTime</th>\n      <th>AirTime</th>\n      <th>ArrDelay</th>\n      <th>DepDelay</th>\n      <th>Origin</th>\n      <th>Dest</th>\n      <th>Distance</th>\n      <th>Cancelled</th>\n      <th>Diverted</th>\n      <th>CarrierDelay</th>\n      <th>WeatherDelay</th>\n      <th>NASDelay</th>\n      <th>SecurityDelay</th>\n      <th>LateAircraftDelay</th>\n    </tr>\n  </thead>\n  <tbody>\n    <tr>\n      <th>611327</th>\n      <td>YV</td>\n      <td>7212</td>\n      <td>N571ML</td>\n      <td>113.0</td>\n      <td>108.0</td>\n      <td>84.0</td>\n      <td>284.0</td>\n      <td>279.0</td>\n      <td>ORD</td>\n      <td>MDT</td>\n      <td>594</td>\n      <td>0</td>\n      <td>0</td>\n      <td>0.0</td>\n      <td>0.0</td>\n      <td>5.0</td>\n      <td>0.0</td>\n      <td>279.0</td>\n    </tr>\n    <tr>\n      <th>1479056</th>\n      <td>DL</td>\n      <td>1600</td>\n      <td>N912DL</td>\n      <td>59.0</td>\n      <td>69.0</td>\n      <td>40.0</td>\n      <td>22.0</td>\n      <td>32.0</td>\n      <td>ATL</td>\n      <td>CHS</td>\n      <td>259</td>\n      <td>0</td>\n      <td>0</td>\n      <td>22.0</td>\n      <td>0.0</td>\n      <td>0.0</td>\n      <td>0.0</td>\n      <td>0.0</td>\n    </tr>\n    <tr>\n      <th>50882</th>\n      <td>OH</td>\n      <td>5363</td>\n      <td>N811CA</td>\n      <td>145.0</td>\n      <td>167.0</td>\n      <td>130.0</td>\n      <td>-2.0</td>\n      <td>20.0</td>\n      <td>CVG</td>\n      <td>IAH</td>\n      <td>871</td>\n      <td>0</td>\n      <td>0</td>\n      <td>NaN</td>\n      <td>NaN</td>\n      <td>NaN</td>\n      <td>NaN</td>\n      <td>NaN</td>\n    </tr>\n    <tr>\n      <th>266826</th>\n      <td>UA</td>\n      <td>1603</td>\n      <td>N494UA</td>\n      <td>175.0</td>\n      <td>151.0</td>\n      <td>134.0</td>\n      <td>42.0</td>\n      <td>18.0</td>\n      <td>DEN</td>\n      <td>MSY</td>\n      <td>1062</td>\n      <td>0</td>\n      <td>0</td>\n      <td>0.0</td>\n      <td>18.0</td>\n      <td>24.0</td>\n      <td>0.0</td>\n      <td>0.0</td>\n    </tr>\n    <tr>\n      <th>1268022</th>\n      <td>WN</td>\n      <td>1943</td>\n      <td>N255WN</td>\n      <td>205.0</td>\n      <td>145.0</td>\n      <td>121.0</td>\n      <td>104.0</td>\n      <td>44.0</td>\n      <td>MHT</td>\n      <td>MDW</td>\n      <td>838</td>\n      <td>0</td>\n      <td>0</td>\n      <td>0.0</td>\n      <td>0.0</td>\n      <td>60.0</td>\n      <td>0.0</td>\n      <td>44.0</td>\n    </tr>\n  </tbody>\n</table>\n</div>"
     },
     "execution_count": 6,
     "metadata": {},
     "output_type": "execute_result"
    }
   ],
   "source": [
    "delayed_df_red.head()"
   ],
   "metadata": {
    "collapsed": false,
    "ExecuteTime": {
     "end_time": "2023-11-08T08:13:50.903995156Z",
     "start_time": "2023-11-08T08:13:50.865044341Z"
    }
   },
   "id": "390d6b1d10725122"
  },
  {
   "cell_type": "code",
   "execution_count": 7,
   "outputs": [],
   "source": [
    "# Extra: guardo el nou"
   ],
   "metadata": {
    "collapsed": false,
    "ExecuteTime": {
     "end_time": "2023-11-08T08:13:51.477277565Z",
     "start_time": "2023-11-08T08:13:51.432826879Z"
    }
   },
   "id": "86b96b74eba5bddc"
  },
  {
   "cell_type": "code",
   "execution_count": 8,
   "outputs": [
    {
     "name": "stdout",
     "output_type": "stream",
     "text": [
      "Nou dataset guardat amb exit amb el nom 'reduced_dataset.csv'.\n"
     ]
    }
   ],
   "source": [
    "# Extra: guardo el nou dataset com CSV com a mesura de seguretat\n",
    "delayed_df_red.to_csv('reduced_dataset.csv', index=False)  \n",
    "print(\"Nou dataset guardat amb exit amb el nom 'reduced_dataset.csv'.\")"
   ],
   "metadata": {
    "collapsed": false,
    "ExecuteTime": {
     "end_time": "2023-11-08T08:13:53.090594435Z",
     "start_time": "2023-11-08T08:13:51.965226470Z"
    }
   },
   "id": "40cb544f4cc1c6a2"
  },
  {
   "cell_type": "raw",
   "source": [
    "Exercici 2\n",
    "Fes un informe complet del dataset:"
   ],
   "metadata": {
    "collapsed": false
   },
   "id": "cb31c39c41cb5ffa"
  },
  {
   "cell_type": "code",
   "execution_count": 9,
   "outputs": [
    {
     "data": {
      "text/plain": "       FlightNum  ActualElapsedTime  CRSElapsedTime    AirTime   ArrDelay  \\\ncount  200000.00          199143.00       199976.00  199143.00  199143.00   \nmean     2185.15             133.42          134.46     108.39      42.33   \nstd      1948.47              72.05           71.41      68.64      57.76   \nmin         1.00              15.00           15.00       1.00     -59.00   \n25%       608.00              80.00           82.00      58.00       9.00   \n50%      1544.00             116.00          117.00      90.00      25.00   \n75%      3422.00             165.00          165.00     137.00      56.00   \nmax      9741.00             693.00          660.00     644.00    2461.00   \n\n        DepDelay   Distance  Cancelled   Diverted  CarrierDelay  WeatherDelay  \\\ncount  200000.00  200000.00  200000.00  200000.00     128751.00     128751.00   \nmean       43.36     766.82       0.00       0.00         19.21          3.70   \nstd        54.42     575.04       0.02       0.06         43.91         21.86   \nmin         6.00      24.00       0.00       0.00          0.00          0.00   \n25%        12.00     341.00       0.00       0.00          0.00          0.00   \n50%        24.00     607.00       0.00       0.00          2.00          0.00   \n75%        53.00     998.00       0.00       0.00         21.00          0.00   \nmax      2457.00    4962.00       1.00       1.00       1552.00       1297.00   \n\n        NASDelay  SecurityDelay  LateAircraftDelay  \ncount  128751.00      128751.00          128751.00  \nmean       15.12           0.08              25.41  \nstd        34.46           1.73              42.70  \nmin         0.00           0.00               0.00  \n25%         0.00           0.00               0.00  \n50%         2.00           0.00               8.00  \n75%        15.00           0.00              34.00  \nmax      1195.00         167.00            1303.00  ",
      "text/html": "<div>\n<style scoped>\n    .dataframe tbody tr th:only-of-type {\n        vertical-align: middle;\n    }\n\n    .dataframe tbody tr th {\n        vertical-align: top;\n    }\n\n    .dataframe thead th {\n        text-align: right;\n    }\n</style>\n<table border=\"1\" class=\"dataframe\">\n  <thead>\n    <tr style=\"text-align: right;\">\n      <th></th>\n      <th>FlightNum</th>\n      <th>ActualElapsedTime</th>\n      <th>CRSElapsedTime</th>\n      <th>AirTime</th>\n      <th>ArrDelay</th>\n      <th>DepDelay</th>\n      <th>Distance</th>\n      <th>Cancelled</th>\n      <th>Diverted</th>\n      <th>CarrierDelay</th>\n      <th>WeatherDelay</th>\n      <th>NASDelay</th>\n      <th>SecurityDelay</th>\n      <th>LateAircraftDelay</th>\n    </tr>\n  </thead>\n  <tbody>\n    <tr>\n      <th>count</th>\n      <td>200000.00</td>\n      <td>199143.00</td>\n      <td>199976.00</td>\n      <td>199143.00</td>\n      <td>199143.00</td>\n      <td>200000.00</td>\n      <td>200000.00</td>\n      <td>200000.00</td>\n      <td>200000.00</td>\n      <td>128751.00</td>\n      <td>128751.00</td>\n      <td>128751.00</td>\n      <td>128751.00</td>\n      <td>128751.00</td>\n    </tr>\n    <tr>\n      <th>mean</th>\n      <td>2185.15</td>\n      <td>133.42</td>\n      <td>134.46</td>\n      <td>108.39</td>\n      <td>42.33</td>\n      <td>43.36</td>\n      <td>766.82</td>\n      <td>0.00</td>\n      <td>0.00</td>\n      <td>19.21</td>\n      <td>3.70</td>\n      <td>15.12</td>\n      <td>0.08</td>\n      <td>25.41</td>\n    </tr>\n    <tr>\n      <th>std</th>\n      <td>1948.47</td>\n      <td>72.05</td>\n      <td>71.41</td>\n      <td>68.64</td>\n      <td>57.76</td>\n      <td>54.42</td>\n      <td>575.04</td>\n      <td>0.02</td>\n      <td>0.06</td>\n      <td>43.91</td>\n      <td>21.86</td>\n      <td>34.46</td>\n      <td>1.73</td>\n      <td>42.70</td>\n    </tr>\n    <tr>\n      <th>min</th>\n      <td>1.00</td>\n      <td>15.00</td>\n      <td>15.00</td>\n      <td>1.00</td>\n      <td>-59.00</td>\n      <td>6.00</td>\n      <td>24.00</td>\n      <td>0.00</td>\n      <td>0.00</td>\n      <td>0.00</td>\n      <td>0.00</td>\n      <td>0.00</td>\n      <td>0.00</td>\n      <td>0.00</td>\n    </tr>\n    <tr>\n      <th>25%</th>\n      <td>608.00</td>\n      <td>80.00</td>\n      <td>82.00</td>\n      <td>58.00</td>\n      <td>9.00</td>\n      <td>12.00</td>\n      <td>341.00</td>\n      <td>0.00</td>\n      <td>0.00</td>\n      <td>0.00</td>\n      <td>0.00</td>\n      <td>0.00</td>\n      <td>0.00</td>\n      <td>0.00</td>\n    </tr>\n    <tr>\n      <th>50%</th>\n      <td>1544.00</td>\n      <td>116.00</td>\n      <td>117.00</td>\n      <td>90.00</td>\n      <td>25.00</td>\n      <td>24.00</td>\n      <td>607.00</td>\n      <td>0.00</td>\n      <td>0.00</td>\n      <td>2.00</td>\n      <td>0.00</td>\n      <td>2.00</td>\n      <td>0.00</td>\n      <td>8.00</td>\n    </tr>\n    <tr>\n      <th>75%</th>\n      <td>3422.00</td>\n      <td>165.00</td>\n      <td>165.00</td>\n      <td>137.00</td>\n      <td>56.00</td>\n      <td>53.00</td>\n      <td>998.00</td>\n      <td>0.00</td>\n      <td>0.00</td>\n      <td>21.00</td>\n      <td>0.00</td>\n      <td>15.00</td>\n      <td>0.00</td>\n      <td>34.00</td>\n    </tr>\n    <tr>\n      <th>max</th>\n      <td>9741.00</td>\n      <td>693.00</td>\n      <td>660.00</td>\n      <td>644.00</td>\n      <td>2461.00</td>\n      <td>2457.00</td>\n      <td>4962.00</td>\n      <td>1.00</td>\n      <td>1.00</td>\n      <td>1552.00</td>\n      <td>1297.00</td>\n      <td>1195.00</td>\n      <td>167.00</td>\n      <td>1303.00</td>\n    </tr>\n  </tbody>\n</table>\n</div>"
     },
     "execution_count": 9,
     "metadata": {},
     "output_type": "execute_result"
    }
   ],
   "source": [
    "# Resumeix estadísticament el dataset i les columnes d’interès. Fes una anàlisi estadística del que consideris rellevant.\n",
    "round(delayed_df_red.describe(),2)"
   ],
   "metadata": {
    "collapsed": false,
    "ExecuteTime": {
     "end_time": "2023-11-08T08:13:53.953401685Z",
     "start_time": "2023-11-08T08:13:53.841000426Z"
    }
   },
   "id": "de3bd00715ee5b69"
  },
  {
   "cell_type": "markdown",
   "source": [
    "De l'anàlisi estadística de les dades sobre la mostra aleatòria de 200.000 registres, podem ressaltar el següent:\n",
    "Que el vol que cobreix la distància màxima recorre 4.962 milles i la distància mínima és de 31 milles.\n",
    "El vol més llarg en temps ha durat 724 minuts i el més curt 18 minuts.\n",
    "El retard més gran en arribada ha estat de 1395 minuts i en sortida de 1403 minuts.\n",
    "Tenint en compte que el retard mitjà és de 42 i 43 minuts per a arribada i sortida respectivament, podem afirmar que tenim clarament valors outliers en aquestes columnes."
   ],
   "metadata": {
    "collapsed": false
   },
   "id": "986532fc6d2341b4"
  },
  {
   "cell_type": "code",
   "execution_count": 10,
   "outputs": [
    {
     "name": "stdout",
     "output_type": "stream",
     "text": [
      "Dades faltant per columna:\n",
      "UniqueCarrier            0\n",
      "FlightNum                0\n",
      "TailNum                  1\n",
      "ActualElapsedTime      857\n",
      "CRSElapsedTime          24\n",
      "AirTime                857\n",
      "ArrDelay               857\n",
      "DepDelay                 0\n",
      "Origin                   0\n",
      "Dest                     0\n",
      "Distance                 0\n",
      "Cancelled                0\n",
      "Diverted                 0\n",
      "CarrierDelay         71249\n",
      "WeatherDelay         71249\n",
      "NASDelay             71249\n",
      "SecurityDelay        71249\n",
      "LateAircraftDelay    71249\n",
      "dtype: int64\n"
     ]
    }
   ],
   "source": [
    "# Troba quantes dades faltant hi ha per columna.\n",
    "dades_faltant_per_columna = delayed_df_red.isnull().sum()\n",
    "\n",
    "print(\"Dades faltant per columna:\")\n",
    "print(dades_faltant_per_columna)"
   ],
   "metadata": {
    "collapsed": false,
    "ExecuteTime": {
     "end_time": "2023-11-08T08:13:56.185242686Z",
     "start_time": "2023-11-08T08:13:56.176918142Z"
    }
   },
   "id": "a88165d51c700302"
  },
  {
   "cell_type": "markdown",
   "source": [
    "Com que l'objectiu de l'exercici és calcular una sèrie d'esdeveniments és el que cal que el vol s'hagi produït, calculem quants dels registres corresponen a vols cancel·lats o desviats i els eliminem del datset."
   ],
   "metadata": {
    "collapsed": false
   },
   "id": "e6e515dcbb09f181"
  },
  {
   "cell_type": "code",
   "execution_count": 11,
   "outputs": [
    {
     "data": {
      "text/plain": "68"
     },
     "execution_count": 11,
     "metadata": {},
     "output_type": "execute_result"
    }
   ],
   "source": [
    "delayed_df_red.apply(lambda x: x['Cancelled'] > 0, axis=1).sum()"
   ],
   "metadata": {
    "collapsed": false,
    "ExecuteTime": {
     "end_time": "2023-11-08T08:13:58.478257176Z",
     "start_time": "2023-11-08T08:13:57.518209799Z"
    }
   },
   "id": "25ac9d4abbc6c6c5"
  },
  {
   "cell_type": "code",
   "execution_count": 25,
   "outputs": [
    {
     "data": {
      "text/plain": "0"
     },
     "execution_count": 25,
     "metadata": {},
     "output_type": "execute_result"
    }
   ],
   "source": [
    "delayed_df_red.apply(lambda x: x['Diverted'] > 0, axis=1).sum()"
   ],
   "metadata": {
    "collapsed": false,
    "ExecuteTime": {
     "end_time": "2023-11-08T08:18:06.397654329Z",
     "start_time": "2023-11-08T08:18:05.390505384Z"
    }
   },
   "id": "3f9f0a782aca6dab"
  },
  {
   "cell_type": "markdown",
   "source": [
    "Podem comprovar que la suma de tots dos valors correspon amb els camps sense dades a les columnes ActualElapsedTime, AirTime i ArrDelay."
   ],
   "metadata": {
    "collapsed": false
   },
   "id": "345fdcc6ac583a5b"
  },
  {
   "cell_type": "code",
   "execution_count": 13,
   "outputs": [
    {
     "data": {
      "text/plain": "0"
     },
     "execution_count": 13,
     "metadata": {},
     "output_type": "execute_result"
    }
   ],
   "source": [
    "delayed_df_red = delayed_df_red.drop(delayed_df_red[delayed_df_red['Cancelled']>0].index)\n",
    "delayed_df_red = delayed_df_red.drop(delayed_df_red[delayed_df_red['Diverted']>0].index)\n",
    "\n",
    "delayed_df_red.apply(lambda x: x['Cancelled'] > 0, axis=1).sum()"
   ],
   "metadata": {
    "collapsed": false,
    "ExecuteTime": {
     "end_time": "2023-11-08T08:14:01.151808993Z",
     "start_time": "2023-11-08T08:14:00.188291859Z"
    }
   },
   "id": "8fee1eebfc0266e2"
  },
  {
   "cell_type": "code",
   "execution_count": 14,
   "outputs": [
    {
     "data": {
      "text/plain": "0"
     },
     "execution_count": 14,
     "metadata": {},
     "output_type": "execute_result"
    }
   ],
   "source": [
    "delayed_df_red.apply(lambda x: x['Diverted'] > 0, axis=1).sum()"
   ],
   "metadata": {
    "collapsed": false,
    "ExecuteTime": {
     "end_time": "2023-11-08T08:14:02.189268125Z",
     "start_time": "2023-11-08T08:14:01.153924998Z"
    }
   },
   "id": "53464625d8af6215"
  },
  {
   "cell_type": "code",
   "execution_count": 15,
   "outputs": [
    {
     "data": {
      "text/plain": "UniqueCarrier            0\nFlightNum                0\nTailNum                  0\nActualElapsedTime        0\nCRSElapsedTime           0\nAirTime                  0\nArrDelay                 0\nDepDelay                 0\nOrigin                   0\nDest                     0\nDistance                 0\nCancelled                0\nDiverted                 0\nCarrierDelay         70392\nWeatherDelay         70392\nNASDelay             70392\nSecurityDelay        70392\nLateAircraftDelay    70392\ndtype: int64"
     },
     "execution_count": 15,
     "metadata": {},
     "output_type": "execute_result"
    }
   ],
   "source": [
    "delayed_df_red.isnull().sum()"
   ],
   "metadata": {
    "collapsed": false,
    "ExecuteTime": {
     "end_time": "2023-11-08T08:14:02.275034432Z",
     "start_time": "2023-11-08T08:14:02.189478012Z"
    }
   },
   "id": "59043478d5f7ce50"
  },
  {
   "cell_type": "markdown",
   "source": [
    "Per a les columnes CarrierDelay, WeatherDelay, NASDelay, SecurityDelay, LateAircraftDelay que no tenen dades, empleno les mateixes amb el valor 0 perquè no interfereixin en els futurs càlculs en cas de ser necessàries. D'aquesta manera, el dataset queda net."
   ],
   "metadata": {
    "collapsed": false
   },
   "id": "5eebcbb715730df3"
  },
  {
   "cell_type": "code",
   "execution_count": 16,
   "outputs": [
    {
     "data": {
      "text/plain": "UniqueCarrier        0\nFlightNum            0\nTailNum              0\nActualElapsedTime    0\nCRSElapsedTime       0\nAirTime              0\nArrDelay             0\nDepDelay             0\nOrigin               0\nDest                 0\nDistance             0\nCancelled            0\nDiverted             0\nCarrierDelay         0\nWeatherDelay         0\nNASDelay             0\nSecurityDelay        0\nLateAircraftDelay    0\ndtype: int64"
     },
     "execution_count": 16,
     "metadata": {},
     "output_type": "execute_result"
    }
   ],
   "source": [
    "delayed_df_red=delayed_df_red.fillna(0)\n",
    "delayed_df_red.isnull().sum()"
   ],
   "metadata": {
    "collapsed": false,
    "ExecuteTime": {
     "end_time": "2023-11-08T08:14:03.701050648Z",
     "start_time": "2023-11-08T08:14:03.491483824Z"
    }
   },
   "id": "ec578ef715f3d30d"
  },
  {
   "cell_type": "code",
   "execution_count": 17,
   "outputs": [
    {
     "name": "stdout",
     "output_type": "stream",
     "text": [
      "Percentatge de vols amb retard al 2008: 89.39%\n",
      "        UniqueCarrier  FlightNum TailNum  ActualElapsedTime  CRSElapsedTime  \\\n",
      "611327             YV       7212  N571ML              113.0           108.0   \n",
      "1479056            DL       1600  N912DL               59.0            69.0   \n",
      "50882              OH       5363  N811CA              145.0           167.0   \n",
      "266826             UA       1603  N494UA              175.0           151.0   \n",
      "1268022            WN       1943  N255WN              205.0           145.0   \n",
      "\n",
      "         AirTime  ArrDelay  DepDelay Origin Dest  Distance  Cancelled  \\\n",
      "611327      84.0     284.0     279.0    ORD  MDT       594          0   \n",
      "1479056     40.0      22.0      32.0    ATL  CHS       259          0   \n",
      "50882      130.0      -2.0      20.0    CVG  IAH       871          0   \n",
      "266826     134.0      42.0      18.0    DEN  MSY      1062          0   \n",
      "1268022    121.0     104.0      44.0    MHT  MDW       838          0   \n",
      "\n",
      "         Diverted  CarrierDelay  WeatherDelay  NASDelay  SecurityDelay  \\\n",
      "611327          0           0.0           0.0       5.0            0.0   \n",
      "1479056         0          22.0           0.0       0.0            0.0   \n",
      "50882           0           0.0           0.0       0.0            0.0   \n",
      "266826          0           0.0          18.0      24.0            0.0   \n",
      "1268022         0           0.0           0.0      60.0            0.0   \n",
      "\n",
      "         LateAircraftDelay  VelocitatMitjana  ArribatTard  \n",
      "611327               279.0          7.071429            1  \n",
      "1479056                0.0          6.475000            1  \n",
      "50882                  0.0          6.700000            0  \n",
      "266826                 0.0          7.925373            1  \n",
      "1268022               44.0          6.925620            1  \n"
     ]
    }
   ],
   "source": [
    "# Crea columnes noves:\n",
    "# Velocitat mitjana del vol (milles per minut)\n",
    "delayed_df_red['VelocitatMitjana'] = delayed_df_red['Distance'] / delayed_df_red['AirTime']\n",
    "\n",
    "# Afegim una nova columna 'ArribatTard' amb valor 1 si té més de 15 minuts de retard, 0 si no)\n",
    "delayed_df_red['ArribatTard'] = (delayed_df_red['ArrDelay'] > 15).astype(int)\n",
    "\n",
    "# Comptem el nombre de vols amb retard (assumint que un vol amb retard té retard > 0)\n",
    "nombre_vols_amb_retard = len(delayed_df_red[delayed_df_red['ArrDelay'] > 0])\n",
    "nombre_total_vols = len(delayed_df_red)\n",
    "percentatge_vols_amb_retard = (nombre_vols_amb_retard / nombre_total_vols) * 100\n",
    "# Mostrem el percentatge\n",
    "print(f\"Percentatge de vols amb retard al 2008: {percentatge_vols_amb_retard:.2f}%\")\n",
    "\n",
    "print(delayed_df_red.head())"
   ],
   "metadata": {
    "collapsed": false,
    "ExecuteTime": {
     "end_time": "2023-11-08T08:14:04.316417995Z",
     "start_time": "2023-11-08T08:14:04.225308569Z"
    }
   },
   "id": "fe8b2981981e5562"
  },
  {
   "cell_type": "code",
   "execution_count": 18,
   "outputs": [
    {
     "data": {
      "text/plain": "        UniqueCarrier  FlightNum TailNum  ActualElapsedTime  CRSElapsedTime  \\\n611327             YV       7212  N571ML              113.0           108.0   \n1479056            DL       1600  N912DL               59.0            69.0   \n50882              OH       5363  N811CA              145.0           167.0   \n266826             UA       1603  N494UA              175.0           151.0   \n1268022            WN       1943  N255WN              205.0           145.0   \n\n         AirTime  ArrDelay  DepDelay  Delayed Origin  ... Distance  Cancelled  \\\n611327      84.0     284.0     279.0        1    ORD  ...      594          0   \n1479056     40.0      22.0      32.0        1    ATL  ...      259          0   \n50882      130.0      -2.0      20.0        0    CVG  ...      871          0   \n266826     134.0      42.0      18.0        1    DEN  ...     1062          0   \n1268022    121.0     104.0      44.0        1    MHT  ...      838          0   \n\n         Diverted  CarrierDelay  WeatherDelay  NASDelay  SecurityDelay  \\\n611327          0           0.0           0.0       5.0            0.0   \n1479056         0          22.0           0.0       0.0            0.0   \n50882           0           0.0           0.0       0.0            0.0   \n266826          0           0.0          18.0      24.0            0.0   \n1268022         0           0.0           0.0      60.0            0.0   \n\n         LateAircraftDelay  VelocitatMitjana  ArribatTard  \n611327               279.0          7.071429            1  \n1479056                0.0          6.475000            1  \n50882                  0.0          6.700000            0  \n266826                 0.0          7.925373            1  \n1268022               44.0          6.925620            1  \n\n[5 rows x 21 columns]",
      "text/html": "<div>\n<style scoped>\n    .dataframe tbody tr th:only-of-type {\n        vertical-align: middle;\n    }\n\n    .dataframe tbody tr th {\n        vertical-align: top;\n    }\n\n    .dataframe thead th {\n        text-align: right;\n    }\n</style>\n<table border=\"1\" class=\"dataframe\">\n  <thead>\n    <tr style=\"text-align: right;\">\n      <th></th>\n      <th>UniqueCarrier</th>\n      <th>FlightNum</th>\n      <th>TailNum</th>\n      <th>ActualElapsedTime</th>\n      <th>CRSElapsedTime</th>\n      <th>AirTime</th>\n      <th>ArrDelay</th>\n      <th>DepDelay</th>\n      <th>Delayed</th>\n      <th>Origin</th>\n      <th>...</th>\n      <th>Distance</th>\n      <th>Cancelled</th>\n      <th>Diverted</th>\n      <th>CarrierDelay</th>\n      <th>WeatherDelay</th>\n      <th>NASDelay</th>\n      <th>SecurityDelay</th>\n      <th>LateAircraftDelay</th>\n      <th>VelocitatMitjana</th>\n      <th>ArribatTard</th>\n    </tr>\n  </thead>\n  <tbody>\n    <tr>\n      <th>611327</th>\n      <td>YV</td>\n      <td>7212</td>\n      <td>N571ML</td>\n      <td>113.0</td>\n      <td>108.0</td>\n      <td>84.0</td>\n      <td>284.0</td>\n      <td>279.0</td>\n      <td>1</td>\n      <td>ORD</td>\n      <td>...</td>\n      <td>594</td>\n      <td>0</td>\n      <td>0</td>\n      <td>0.0</td>\n      <td>0.0</td>\n      <td>5.0</td>\n      <td>0.0</td>\n      <td>279.0</td>\n      <td>7.071429</td>\n      <td>1</td>\n    </tr>\n    <tr>\n      <th>1479056</th>\n      <td>DL</td>\n      <td>1600</td>\n      <td>N912DL</td>\n      <td>59.0</td>\n      <td>69.0</td>\n      <td>40.0</td>\n      <td>22.0</td>\n      <td>32.0</td>\n      <td>1</td>\n      <td>ATL</td>\n      <td>...</td>\n      <td>259</td>\n      <td>0</td>\n      <td>0</td>\n      <td>22.0</td>\n      <td>0.0</td>\n      <td>0.0</td>\n      <td>0.0</td>\n      <td>0.0</td>\n      <td>6.475000</td>\n      <td>1</td>\n    </tr>\n    <tr>\n      <th>50882</th>\n      <td>OH</td>\n      <td>5363</td>\n      <td>N811CA</td>\n      <td>145.0</td>\n      <td>167.0</td>\n      <td>130.0</td>\n      <td>-2.0</td>\n      <td>20.0</td>\n      <td>0</td>\n      <td>CVG</td>\n      <td>...</td>\n      <td>871</td>\n      <td>0</td>\n      <td>0</td>\n      <td>0.0</td>\n      <td>0.0</td>\n      <td>0.0</td>\n      <td>0.0</td>\n      <td>0.0</td>\n      <td>6.700000</td>\n      <td>0</td>\n    </tr>\n    <tr>\n      <th>266826</th>\n      <td>UA</td>\n      <td>1603</td>\n      <td>N494UA</td>\n      <td>175.0</td>\n      <td>151.0</td>\n      <td>134.0</td>\n      <td>42.0</td>\n      <td>18.0</td>\n      <td>1</td>\n      <td>DEN</td>\n      <td>...</td>\n      <td>1062</td>\n      <td>0</td>\n      <td>0</td>\n      <td>0.0</td>\n      <td>18.0</td>\n      <td>24.0</td>\n      <td>0.0</td>\n      <td>0.0</td>\n      <td>7.925373</td>\n      <td>1</td>\n    </tr>\n    <tr>\n      <th>1268022</th>\n      <td>WN</td>\n      <td>1943</td>\n      <td>N255WN</td>\n      <td>205.0</td>\n      <td>145.0</td>\n      <td>121.0</td>\n      <td>104.0</td>\n      <td>44.0</td>\n      <td>1</td>\n      <td>MHT</td>\n      <td>...</td>\n      <td>838</td>\n      <td>0</td>\n      <td>0</td>\n      <td>0.0</td>\n      <td>0.0</td>\n      <td>60.0</td>\n      <td>0.0</td>\n      <td>44.0</td>\n      <td>6.925620</td>\n      <td>1</td>\n    </tr>\n  </tbody>\n</table>\n<p>5 rows × 21 columns</p>\n</div>"
     },
     "execution_count": 18,
     "metadata": {},
     "output_type": "execute_result"
    }
   ],
   "source": [
    "# # Comprovem si l'avió ha arribat tard o no en funció del valor del camp 'ArrDelay'.\n",
    "# Si aquest és >= 0 considerem que sí que ha arribat tard. Col·loquem la nova columna al costat de la columna \"ArrDelay\".\n",
    "\n",
    "delayed_df_red['Delayed'] = np.where(delayed_df_red['ArrDelay'] >= 0, 1, 0)\n",
    "delayed_df_red.insert(8, 'Delayed', delayed_df_red.pop('Delayed'))\n",
    "delayed_df_red.head()"
   ],
   "metadata": {
    "collapsed": false,
    "ExecuteTime": {
     "end_time": "2023-11-08T08:14:04.909605025Z",
     "start_time": "2023-11-08T08:14:04.882040921Z"
    }
   },
   "id": "826c659532f2e80c"
  },
  {
   "cell_type": "code",
   "execution_count": 19,
   "outputs": [
    {
     "data": {
      "text/plain": "               AcumDelay  NomDelays\nUniqueCarrier                      \nWN             1192711.0      34153\nAA              925193.0      17961\nUA              715830.0      13035\nMQ              685537.0      13846\nOO              614159.0      12700\nXE              538575.0       9956\nDL              475744.0      10567\nCO              429136.0       8772\nEV              402464.0       7733\nYV              392136.0       6690\nUS              375450.0       8693\nNW              370234.0       7582\nB6              317966.0       5031\nFL              316226.0       6666\nOH              285561.0       5207\n9E              258443.0       4941\nAS              148251.0       3642\nF9               85240.0       2862\nHA               25518.0        764\nAQ                1955.0         84",
      "text/html": "<div>\n<style scoped>\n    .dataframe tbody tr th:only-of-type {\n        vertical-align: middle;\n    }\n\n    .dataframe tbody tr th {\n        vertical-align: top;\n    }\n\n    .dataframe thead th {\n        text-align: right;\n    }\n</style>\n<table border=\"1\" class=\"dataframe\">\n  <thead>\n    <tr style=\"text-align: right;\">\n      <th></th>\n      <th>AcumDelay</th>\n      <th>NomDelays</th>\n    </tr>\n    <tr>\n      <th>UniqueCarrier</th>\n      <th></th>\n      <th></th>\n    </tr>\n  </thead>\n  <tbody>\n    <tr>\n      <th>WN</th>\n      <td>1192711.0</td>\n      <td>34153</td>\n    </tr>\n    <tr>\n      <th>AA</th>\n      <td>925193.0</td>\n      <td>17961</td>\n    </tr>\n    <tr>\n      <th>UA</th>\n      <td>715830.0</td>\n      <td>13035</td>\n    </tr>\n    <tr>\n      <th>MQ</th>\n      <td>685537.0</td>\n      <td>13846</td>\n    </tr>\n    <tr>\n      <th>OO</th>\n      <td>614159.0</td>\n      <td>12700</td>\n    </tr>\n    <tr>\n      <th>XE</th>\n      <td>538575.0</td>\n      <td>9956</td>\n    </tr>\n    <tr>\n      <th>DL</th>\n      <td>475744.0</td>\n      <td>10567</td>\n    </tr>\n    <tr>\n      <th>CO</th>\n      <td>429136.0</td>\n      <td>8772</td>\n    </tr>\n    <tr>\n      <th>EV</th>\n      <td>402464.0</td>\n      <td>7733</td>\n    </tr>\n    <tr>\n      <th>YV</th>\n      <td>392136.0</td>\n      <td>6690</td>\n    </tr>\n    <tr>\n      <th>US</th>\n      <td>375450.0</td>\n      <td>8693</td>\n    </tr>\n    <tr>\n      <th>NW</th>\n      <td>370234.0</td>\n      <td>7582</td>\n    </tr>\n    <tr>\n      <th>B6</th>\n      <td>317966.0</td>\n      <td>5031</td>\n    </tr>\n    <tr>\n      <th>FL</th>\n      <td>316226.0</td>\n      <td>6666</td>\n    </tr>\n    <tr>\n      <th>OH</th>\n      <td>285561.0</td>\n      <td>5207</td>\n    </tr>\n    <tr>\n      <th>9E</th>\n      <td>258443.0</td>\n      <td>4941</td>\n    </tr>\n    <tr>\n      <th>AS</th>\n      <td>148251.0</td>\n      <td>3642</td>\n    </tr>\n    <tr>\n      <th>F9</th>\n      <td>85240.0</td>\n      <td>2862</td>\n    </tr>\n    <tr>\n      <th>HA</th>\n      <td>25518.0</td>\n      <td>764</td>\n    </tr>\n    <tr>\n      <th>AQ</th>\n      <td>1955.0</td>\n      <td>84</td>\n    </tr>\n  </tbody>\n</table>\n</div>"
     },
     "execution_count": 19,
     "metadata": {},
     "output_type": "execute_result"
    }
   ],
   "source": [
    "#Fes una taula de les aerolínies amb més endarreriments acumulats\n",
    "# Creem una taula temporal on afegim el camp companyia i el valor de 'ArrDelay'. En aquesta taula traiem aquells valors\n",
    "# on retardat = 0, ja que 'ArrDelay' tenen valors negatiu o zero i els agrupem per companyia sumant el valor de 'ArrayDelay'.\n",
    "# Finalment reanomenem les columnes 'Delayed' i 'ArrDelay'\n",
    "delayed_df_red_comp = delayed_df_red.loc[:,['UniqueCarrier','ArrDelay','Delayed']]\n",
    "delayed_df_red_comp = delayed_df_red_comp.drop(delayed_df_red_comp[delayed_df_red_comp['Delayed']==0].index).groupby(['UniqueCarrier']).sum().sort_values('ArrDelay', ascending=False)\n",
    "delayed_df_red_comp.rename(columns = {'ArrDelay':'AcumDelay'}, inplace = True)\n",
    "delayed_df_red_comp.rename(columns = {'Delayed':'NomDelays'}, inplace = True)\n",
    "delayed_df_red_comp"
   ],
   "metadata": {
    "collapsed": false,
    "ExecuteTime": {
     "end_time": "2023-11-08T08:14:05.570540827Z",
     "start_time": "2023-11-08T08:14:05.536808401Z"
    }
   },
   "id": "67154ecf02b8e10f"
  },
  {
   "cell_type": "code",
   "execution_count": 20,
   "outputs": [
    {
     "name": "stdout",
     "output_type": "stream",
     "text": [
      "\n",
      "Ruta més llarga (distància en quilòmetres):\n",
      "Origin  Dest\n",
      "SFO     JFK     1.023791e+06\n",
      "LAX     JFK     1.023661e+06\n",
      "JFK     LAX     9.599311e+05\n",
      "        SFO     8.365124e+05\n",
      "LAX     ORD     8.003650e+05\n",
      "ORD     LAX     7.610488e+05\n",
      "LAX     HNL     7.239713e+05\n",
      "ORD     SFO     7.219145e+05\n",
      "SFO     ORD     6.951769e+05\n",
      "ATL     LAX     6.921224e+05\n",
      "Name: DistanceKm, dtype: float64\n",
      "\n",
      "Ruta més llarga (distància en milles):\n",
      "Origin  Dest\n",
      "SFO     JFK     636156\n",
      "LAX     JFK     636075\n",
      "JFK     LAX     596475\n",
      "        SFO     519786\n",
      "LAX     ORD     497325\n",
      "ORD     LAX     472895\n",
      "LAX     HNL     449856\n",
      "ORD     SFO     448578\n",
      "SFO     ORD     431964\n",
      "ATL     LAX     430066\n",
      "Name: Distance, dtype: int64\n",
      "\n",
      "Rutes més endarrerides (per endarreriment total):\n",
      "Origin  Dest\n",
      "LAX     SFO     51941.0\n",
      "LGA     ORD     47507.0\n",
      "ORD     LGA     46627.0\n",
      "        EWR     42703.0\n",
      "DFW     ORD     40505.0\n",
      "ATL     EWR     38852.0\n",
      "SFO     LAX     38696.0\n",
      "ATL     LGA     36951.0\n",
      "LGA     ATL     34801.0\n",
      "EWR     ATL     33703.0\n",
      "Name: TotalDelay, dtype: float64\n"
     ]
    }
   ],
   "source": [
    "# Calcular la distància total per ruta (combinant origen i destinació)\n",
    "distancia_total_per_ruta = delayed_df_red.groupby(['Origin', 'Dest'])['Distance'].sum()\n",
    "\n",
    "# Trobar la ruta més llarga (amb distància màxima)\n",
    "ruta_mes_llarga = distancia_total_per_ruta.nlargest(10)\n",
    "\n",
    "# Calcular l'endarreriment total per ruta\n",
    "endarreriment_total_per_ruta = delayed_df_red.groupby(['Origin', 'Dest'])[['ArrDelay', 'DepDelay']].sum()\n",
    "\n",
    "# Calcular la distància total per ruta (combinant origen i destí) en quilòmetres\n",
    "delayed_df_red['DistanceKm'] = delayed_df_red['Distance'] * 1.60934\n",
    "distancia_total_per_ruta_km = delayed_df_red.groupby(['Origin', 'Dest'])['DistanceKm'].sum()\n",
    "\n",
    "# Trobar la ruta més llarga (amb distància máxima) en kms\n",
    "ruta_mes_llarga_km = distancia_total_per_ruta_km.nlargest(10)\n",
    "\n",
    "print(\"\\nRuta més llarga (distància en quilòmetres):\")\n",
    "print(ruta_mes_llarga_km)\n",
    "\n",
    "# Calcular l'endarreriment total (suma dels endarreriments d'arribada i sortida) per ruta\n",
    "endarreriment_total_per_ruta['TotalDelay'] = endarreriment_total_per_ruta.sum(axis=1)\n",
    "\n",
    "# Trobar les rutes més endarrerides (amb endarreriment total màxim) \n",
    "ruta_mes_endarrerida = endarreriment_total_per_ruta['TotalDelay'].groupby(['Origin', 'Dest']).sum().nlargest(10)\n",
    "\n",
    "print(\"\\nRuta més llarga (distància en milles):\")\n",
    "print(ruta_mes_llarga)\n",
    "print(\"\\nRutes més endarrerides (per endarreriment total):\")\n",
    "print(ruta_mes_endarrerida)"
   ],
   "metadata": {
    "collapsed": false,
    "ExecuteTime": {
     "end_time": "2023-11-08T08:14:06.475998390Z",
     "start_time": "2023-11-08T08:14:06.253337516Z"
    }
   },
   "id": "e1f1a838f0b576c7"
  },
  {
   "cell_type": "code",
   "execution_count": 21,
   "outputs": [
    {
     "data": {
      "text/plain": "          ArrDelay  Distance\nArrDelay   1.00000  -0.03258\nDistance  -0.03258   1.00000",
      "text/html": "<div>\n<style scoped>\n    .dataframe tbody tr th:only-of-type {\n        vertical-align: middle;\n    }\n\n    .dataframe tbody tr th {\n        vertical-align: top;\n    }\n\n    .dataframe thead th {\n        text-align: right;\n    }\n</style>\n<table border=\"1\" class=\"dataframe\">\n  <thead>\n    <tr style=\"text-align: right;\">\n      <th></th>\n      <th>ArrDelay</th>\n      <th>Distance</th>\n    </tr>\n  </thead>\n  <tbody>\n    <tr>\n      <th>ArrDelay</th>\n      <td>1.00000</td>\n      <td>-0.03258</td>\n    </tr>\n    <tr>\n      <th>Distance</th>\n      <td>-0.03258</td>\n      <td>1.00000</td>\n    </tr>\n  </tbody>\n</table>\n</div>"
     },
     "execution_count": 21,
     "metadata": {},
     "output_type": "execute_result"
    }
   ],
   "source": [
    "# Aporta allò que consideris rellevant.\n",
    "# Busquem si hi ha una correlació entre diferents valors.\n",
    "delayed_df_red[['ArrDelay', 'Distance']].corr()"
   ],
   "metadata": {
    "collapsed": false,
    "ExecuteTime": {
     "end_time": "2023-11-08T08:14:06.949619711Z",
     "start_time": "2023-11-08T08:14:06.937406392Z"
    }
   },
   "id": "6351c4efe10d706a"
  },
  {
   "cell_type": "code",
   "execution_count": 22,
   "outputs": [
    {
     "data": {
      "text/plain": "          Distance  DepDelay  ArrDelay\nDistance  1.000000 -0.009926 -0.032580\nDepDelay -0.009926  1.000000  0.954743\nArrDelay -0.032580  0.954743  1.000000",
      "text/html": "<div>\n<style scoped>\n    .dataframe tbody tr th:only-of-type {\n        vertical-align: middle;\n    }\n\n    .dataframe tbody tr th {\n        vertical-align: top;\n    }\n\n    .dataframe thead th {\n        text-align: right;\n    }\n</style>\n<table border=\"1\" class=\"dataframe\">\n  <thead>\n    <tr style=\"text-align: right;\">\n      <th></th>\n      <th>Distance</th>\n      <th>DepDelay</th>\n      <th>ArrDelay</th>\n    </tr>\n  </thead>\n  <tbody>\n    <tr>\n      <th>Distance</th>\n      <td>1.000000</td>\n      <td>-0.009926</td>\n      <td>-0.032580</td>\n    </tr>\n    <tr>\n      <th>DepDelay</th>\n      <td>-0.009926</td>\n      <td>1.000000</td>\n      <td>0.954743</td>\n    </tr>\n    <tr>\n      <th>ArrDelay</th>\n      <td>-0.032580</td>\n      <td>0.954743</td>\n      <td>1.000000</td>\n    </tr>\n  </tbody>\n</table>\n</div>"
     },
     "execution_count": 22,
     "metadata": {},
     "output_type": "execute_result"
    }
   ],
   "source": [
    "delayed_df_red[['Distance', 'DepDelay','ArrDelay' ]].corr()"
   ],
   "metadata": {
    "collapsed": false,
    "ExecuteTime": {
     "end_time": "2023-11-08T08:14:07.577545386Z",
     "start_time": "2023-11-08T08:14:07.564020098Z"
    }
   },
   "id": "69ef4ce079857ee7"
  },
  {
   "cell_type": "markdown",
   "source": [
    "No hi ha una clara correlació entre els elements."
   ],
   "metadata": {
    "collapsed": false
   },
   "id": "ac6108f308b348ce"
  },
  {
   "cell_type": "code",
   "execution_count": 23,
   "outputs": [
    {
     "name": "stdout",
     "output_type": "stream",
     "text": [
      "Dataset exportat amb èxit a Excel.\n"
     ]
    }
   ],
   "source": [
    "# Exporta el dataset net i amb les noves columnes a Excel.\n",
    "ruta_arxiu_excel = \"/home/sole/Documents/DS/Sprint 3/final_dataset.xlsx\"\n",
    "delayed_df_red.to_excel(ruta_arxiu_excel, index=False)\n",
    "print('Dataset exportat amb èxit a Excel.')"
   ],
   "metadata": {
    "collapsed": false,
    "ExecuteTime": {
     "end_time": "2023-11-08T08:15:02.450448386Z",
     "start_time": "2023-11-08T08:14:09.139660484Z"
    }
   },
   "id": "50bf6411263112ba"
  }
 ],
 "metadata": {
  "kernelspec": {
   "display_name": "Python 3",
   "language": "python",
   "name": "python3"
  },
  "language_info": {
   "codemirror_mode": {
    "name": "ipython",
    "version": 2
   },
   "file_extension": ".py",
   "mimetype": "text/x-python",
   "name": "python",
   "nbconvert_exporter": "python",
   "pygments_lexer": "ipython2",
   "version": "2.7.6"
  }
 },
 "nbformat": 4,
 "nbformat_minor": 5
}
