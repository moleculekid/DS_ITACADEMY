{
 "cells": [
  {
   "cell_type": "markdown",
   "source": [
    "**Exercici 1**\n",
    "Crea una llista que agrupi els mesos de l’any en trimestres (1T: gener, febrer i març; 2T: abril, maig, juny...), és a dir, una llista amb 4 llistes dins."
   ],
   "metadata": {
    "collapsed": false
   },
   "id": "ecc3e5d2bd276d5"
  },
  {
   "cell_type": "code",
   "execution_count": 7,
   "outputs": [],
   "source": [
    "trimestre = [\n",
    "    ['gener', 'febrer', 'març'],\n",
    "    ['abril','maig','juny'],\n",
    "    ['juliol','agost','setembre'],\n",
    "    ['octubre','novembre','desembre']\n",
    "]"
   ],
   "metadata": {
    "collapsed": false,
    "ExecuteTime": {
     "end_time": "2023-09-26T10:50:32.866027708Z",
     "start_time": "2023-09-26T10:50:32.818058378Z"
    }
   },
   "id": "91eabc60de904e18"
  },
  {
   "cell_type": "markdown",
   "source": [
    "**Exercici 2**\n",
    "Crea un codi que et permeti accedir a:"
   ],
   "metadata": {
    "collapsed": false
   },
   "id": "f5b42937c18f2fad"
  },
  {
   "cell_type": "code",
   "execution_count": 9,
   "outputs": [
    {
     "name": "stdout",
     "output_type": "stream",
     "text": [
      "Segon mes del primer trimestre: febrer\n",
      "Mesos del primer trimestre: gener, febrer, març\n",
      "Setembre i octubre: setembre i octubre\n"
     ]
    }
   ],
   "source": [
    "# El segon mes del primer trimestre.\n",
    "(print)(\"Segon mes del primer trimestre:\", trimestre[0][1])\n",
    "# Els mesos del primer trimestre.\n",
    "print(\"Mesos del primer trimestre:\", ', '.join(trimestre [0]))\n",
    "# Setembre i octubre.\n",
    "(print)(\"Setembre i octubre:\",trimestre[2][2],\"i\", trimestre[3][0])"
   ],
   "metadata": {
    "collapsed": false,
    "ExecuteTime": {
     "end_time": "2023-09-26T10:50:43.883589261Z",
     "start_time": "2023-09-26T10:50:43.879940343Z"
    }
   },
   "id": "1dc29399236529e"
  },
  {
   "cell_type": "markdown",
   "source": [
    "**Exercici 3**\n",
    "Crea una llista amb nombres desordenats i respon a les següents preguntes:"
   ],
   "metadata": {
    "collapsed": false
   },
   "id": "ffebe8d0998d980e"
  },
  {
   "cell_type": "code",
   "execution_count": 70,
   "outputs": [],
   "source": [
    "llista_nombres_desordenats = [26, 98, 404, 84316, 4, 37456, 12, 7654, 564, 3067, 89, 37, 115]"
   ],
   "metadata": {
    "collapsed": false,
    "ExecuteTime": {
     "end_time": "2023-09-21T10:53:28.949739885Z",
     "start_time": "2023-09-21T10:53:28.906725842Z"
    }
   },
   "id": "bb60e3f6cb474cb2"
  },
  {
   "cell_type": "code",
   "execution_count": 71,
   "outputs": [
    {
     "name": "stdout",
     "output_type": "stream",
     "text": [
      "Hi han 13 numeros\n",
      "El numero 3 apareix 0 vegades\n",
      "Els nombres 3 i 4 apareixen 1 vegades\n",
      "El numero mes gran es 84316\n",
      "Els tres numeros mes petits son 4, 12, 26\n",
      "El rang d'aquesta llista es 84312\n"
     ]
    }
   ],
   "source": [
    "# Quants números hi ha?\n",
    "quant_numeros = (len(llista_nombres_desordenats))\n",
    "print(\"Hi han\", quant_numeros, \"numeros\")\n",
    "\n",
    "# Quantes vegades apareix el número 3.\n",
    "vegades_numero_tres = (llista_nombres_desordenats.count(3))\n",
    "print(\"El numero 3 apareix\", vegades_numero_tres, \"vegades\")\n",
    "\n",
    "# Quantes vegades apareixen els nombres 3 i 4?\n",
    "vegades_numero_tres_i_quatre = (llista_nombres_desordenats.count(3) + llista_nombres_desordenats.count(4))\n",
    "print(\"Els nombres 3 i 4 apareixen\", vegades_numero_tres_i_quatre, \"vegades\")\n",
    "\n",
    "# Quin és el número més gran?\n",
    "numero_mes_gran = (max(llista_nombres_desordenats))\n",
    "print(\"El numero mes gran es\", numero_mes_gran)\n",
    "\n",
    "# Quins són els 3 números més petits?\n",
    "tres_numeros_mes_petits = (sorted(llista_nombres_desordenats)[:3])\n",
    "# Convertint la llista de nombres a una cadena de caràcters\n",
    "tres_numeros_mes_petits_str = ', '.join(map(str, tres_numeros_mes_petits))\n",
    "print(\"Els tres numeros mes petits son\", tres_numeros_mes_petits_str)\n",
    "\n",
    "# Quin és el rang d’aquesta llista?\n",
    "rang_llista = max(llista_nombres_desordenats)- min(llista_nombres_desordenats) \n",
    "print(\"El rang d'aquesta llista es\", rang_llista)"
   ],
   "metadata": {
    "collapsed": false,
    "ExecuteTime": {
     "start_time": "2023-09-21T10:53:30.035703046Z"
    }
   },
   "id": "d9edb068a87d199f"
  },
  {
   "cell_type": "markdown",
   "source": [
    "**Exercici 3 amb Random**"
   ],
   "metadata": {
    "collapsed": false
   },
   "id": "ef10b9bf5eb71df5"
  },
  {
   "cell_type": "code",
   "execution_count": 40,
   "outputs": [
    {
     "name": "stdout",
     "output_type": "stream",
     "text": [
      "Lista nombres desordenats generada: [52866, 38812, 20746, 35337, 47449, 16818, 15798, 49468, 37852, 38325, 79043, 67591, 24509, 81474, 53827, 7138]\n"
     ]
    }
   ],
   "source": [
    "import random\n",
    "\n",
    "def llista_nombres_aleatoris(cantitat, valor_min, valor_max):\n",
    "    return llista_nombres_aleatoris\n",
    "print(\"Lista nombres desordenats generada:\", lista_generada)\n",
    "llista_nombres_aleatoris_final = lista_generada"
   ],
   "metadata": {
    "collapsed": false,
    "ExecuteTime": {
     "end_time": "2023-10-02T10:22:57.332720216Z",
     "start_time": "2023-10-02T10:22:57.291654353Z"
    }
   },
   "id": "5cb2d3ac33c67ba8"
  },
  {
   "cell_type": "code",
   "execution_count": 43,
   "outputs": [
    {
     "name": "stdout",
     "output_type": "stream",
     "text": [
      "Hi han 16 numeros\n",
      "El numero 3 apareix 0 vegades\n",
      "Els nombres 3 i 4 apareixen 0 vegades\n",
      "El numero mes gran es 81474\n",
      "Els tres numeros mes petits son 7138, 15798, 16818\n",
      "El rang d'aquesta llista es 74336\n"
     ]
    }
   ],
   "source": [
    "# Quants números hi ha?\n",
    "quant_numeros = (len(llista_nombres_aleatoris_final))\n",
    "print(\"Hi han\", quant_numeros, \"numeros\")\n",
    "\n",
    "# Quantes vegades apareix el número 3.\n",
    "vegades_numero_tres = (llista_nombres_aleatoris_final.count(3))\n",
    "print(\"El numero 3 apareix\", vegades_numero_tres, \"vegades\")\n",
    "\n",
    "# Quantes vegades apareixen els nombres 3 i 4?\n",
    "vegades_numero_tres_i_quatre = (llista_nombres_aleatoris_final.count(3) + llista_nombres_aleatoris_final.count(4))\n",
    "print(\"Els nombres 3 i 4 apareixen\", vegades_numero_tres_i_quatre, \"vegades\")\n",
    "\n",
    "# Quin és el número més gran?\n",
    "numero_mes_gran = (max(llista_nombres_aleatoris_final))\n",
    "print(\"El numero mes gran es\", numero_mes_gran)\n",
    "\n",
    "# Quins són els 3 números més petits?\n",
    "tres_numeros_mes_petits = (sorted(llista_nombres_aleatoris_final)[:3])\n",
    "# Convertint la llista de nombres a una cadena de caràcters\n",
    "tres_numeros_mes_petits_str = ', '.join(map(str, tres_numeros_mes_petits))\n",
    "print(\"Els tres numeros mes petits son\", tres_numeros_mes_petits_str)\n",
    "\n",
    "# Quin és el rang d’aquesta llista?\n",
    "rang_llista = max(llista_nombres_aleatoris_final)- min(llista_nombres_aleatoris_final)\n",
    "print(\"El rang d'aquesta llista es\", rang_llista)"
   ],
   "metadata": {
    "collapsed": false,
    "ExecuteTime": {
     "end_time": "2023-10-02T10:24:00.788653213Z",
     "start_time": "2023-10-02T10:24:00.743032036Z"
    }
   },
   "id": "2d3893d6c2c41ed0"
  },
  {
   "cell_type": "markdown",
   "source": [
    "**Exercici 4**\n",
    "Crea un diccionari de la següent forma i respon a les preguntes:"
   ],
   "metadata": {
    "collapsed": false
   },
   "id": "776abdce1e95579f"
  },
  {
   "cell_type": "code",
   "execution_count": 1,
   "outputs": [],
   "source": [
    "compra = { \"Pomes\" : {\"Qty\": 5, \"€\": 0.42}, \"Peres\" : {\"Qty\": 3, \"€\": 0.66} }"
   ],
   "metadata": {
    "collapsed": false,
    "ExecuteTime": {
     "end_time": "2023-09-26T08:22:22.886735143Z",
     "start_time": "2023-09-26T08:22:22.878881271Z"
    }
   },
   "id": "2de23e11dd6cf43e"
  },
  {
   "cell_type": "code",
   "execution_count": 3,
   "outputs": [
    {
     "name": "stdout",
     "output_type": "stream",
     "text": [
      "Compra actualitzada: {'Pomes': {'Qty': 5, '€': 0.42}, 'Peres': {'Qty': 3, '€': 0.66}, 'Bananes': {'Qty': 6, '€': 0.37}, 'Pressec': {'Qty': 2, '€': 1.24}}\n",
      "Cost total de les peres: 1.98\n",
      "Numero total de fruites comprades: 16\n",
      "La fruita més cara és: Pressec\n",
      "Preu més alt: 1.24\n"
     ]
    }
   ],
   "source": [
    "# Afegeix alguna fruita mes\n",
    "compra[\"Bananes\"] = {\"Qty\": 6, \"€\": 0.37}; compra[\"Pressec\"] = {\"Qty\": 2, \"€\": 1.24}\n",
    "print(\"Compra actualitzada:\", compra)\n",
    "\n",
    "# Quant han costat les peres en total?\n",
    "quantitat_peres = compra[\"Peres\"][\"Qty\"]\n",
    "preu_peres_per_unitat = compra[\"Peres\"][\"€\"]\n",
    "cost_total_peres = quantitat_peres * preu_peres_per_unitat\n",
    "print(\"Cost total de les peres:\", cost_total_peres)\n",
    "\n",
    "# Quantes fruites hem comprat en total?\n",
    "total_fruites = 0\n",
    "for fruita, info in compra.items():\n",
    "    total_fruites += info[\"Qty\"]\n",
    "print(\"Numero total de fruites comprades:\", total_fruites)\n",
    "\n",
    "# Quina és la fruita més cara?\n",
    "fruita_mes_cara = None\n",
    "preu_mes_cara = 0\n",
    "for fruita, info in compra.items():\n",
    "    preu_fruita = info[\"€\"]\n",
    "    if preu_fruita > preu_mes_cara:\n",
    "        preu_mes_cara = preu_fruita\n",
    "        fruita_mes_cara = fruita\n",
    "\n",
    "# Mostrar la fruita més cara\n",
    "print(\"La fruita més cara és:\", fruita_mes_cara)\n",
    "print(\"Preu més alt:\", preu_mes_cara)\n"
   ],
   "metadata": {
    "collapsed": false,
    "ExecuteTime": {
     "end_time": "2023-09-26T08:22:22.888082006Z",
     "start_time": "2023-09-26T08:22:22.886607122Z"
    }
   },
   "id": "e7550c784a6b8126"
  }
 ],
 "metadata": {
  "kernelspec": {
   "display_name": "Python 3",
   "language": "python",
   "name": "python3"
  },
  "language_info": {
   "codemirror_mode": {
    "name": "ipython",
    "version": 2
   },
   "file_extension": ".py",
   "mimetype": "text/x-python",
   "name": "python",
   "nbconvert_exporter": "python",
   "pygments_lexer": "ipython2",
   "version": "2.7.6"
  }
 },
 "nbformat": 4,
 "nbformat_minor": 5
}
