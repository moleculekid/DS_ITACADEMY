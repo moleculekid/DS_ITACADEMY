{
 "cells": [
  {
   "cell_type": "markdown",
   "source": [
    "**Exercici 1**\n",
    "Crea una funció que et classifiqui una variable numèrica en funció de l’escala Suspès/Aprovat/Notable/Excel·lent.\n",
    "Recorda que Suspès < 5, Aprovat > 5 i < 7, Notable > 7 i < 9 i Excel·lent > 9."
   ],
   "metadata": {
    "collapsed": false
   },
   "id": "605d3a795b62d14a"
  },
  {
   "cell_type": "code",
   "execution_count": 23,
   "outputs": [
    {
     "name": "stdout",
     "output_type": "stream",
     "text": [
      "Excel·lent\n"
     ]
    }
   ],
   "source": [
    "def avaluar(n):\n",
    "    if n < 5:\n",
    "        return(\"Suspès\")\n",
    "    elif n >= 5 and n < 7:\n",
    "        return(\"Aprovat\")\n",
    "    elif n >= 7 and n < 9:\n",
    "        return(\"Notable\")\n",
    "    elif n >= 9:\n",
    "        return(\"Excel·lent\")\n",
    "nota = 9.75\n",
    "print(avaluar(nota))"
   ],
   "metadata": {
    "collapsed": false,
    "ExecuteTime": {
     "end_time": "2023-09-27T08:57:23.109717290Z",
     "start_time": "2023-09-27T08:57:23.065981304Z"
    }
   },
   "id": "cfba4c5a4cad9ae4"
  },
  {
   "cell_type": "markdown",
   "source": [
    "**Exercici 2**\n",
    "Crea un programa que et pregunti dos números. T’ha de mostrar un missatge dient si el primer és més gran, el segon és més gran o són iguals."
   ],
   "metadata": {
    "collapsed": false
   },
   "id": "8db5e50358686024"
  },
  {
   "cell_type": "code",
   "execution_count": 29,
   "outputs": [
    {
     "name": "stdout",
     "output_type": "stream",
     "text": [
      "El primer nombre és més gran\n"
     ]
    }
   ],
   "source": [
    "def comparar(num1, num2):\n",
    "    num1 = float(input(\"Insereix el primer nombre: \"))\n",
    "    num2 = float(input(\"Insereix el segon nombre: \"))\n",
    "    \n",
    "    if num1 > num2:\n",
    "        print(\"El primer nombre és més gran\")\n",
    "    elif num1 < num2:\n",
    "        print(\"El segon nombre és més gran\")\n",
    "    else:\n",
    "        print(\"Són iguals\")\n",
    "comparar(9,8)"
   ],
   "metadata": {
    "collapsed": false,
    "ExecuteTime": {
     "end_time": "2023-09-27T09:26:50.880347787Z",
     "start_time": "2023-09-27T09:26:46.756167135Z"
    }
   },
   "id": "cc8159611169c73c"
  },
  {
   "cell_type": "markdown",
   "source": [
    "**Exercici 3**\n",
    "Crea un programa que et pregunti el teu nom, i et demani un número. Si el número és 0, hauria de mostrar un missatge d’error. En cas contrari, hauria de mostrar el nom repetit tants cops com indiqui el número. Per exemple, “Joan Joan Joan”."
   ],
   "metadata": {
    "collapsed": false
   },
   "id": "1d44783ca6013b4d"
  },
  {
   "cell_type": "code",
   "execution_count": 33,
   "outputs": [
    {
     "name": "stdout",
     "output_type": "stream",
     "text": [
      "SoleSoleSoleSoleSoleSoleSoleSole\n"
     ]
    }
   ],
   "source": [
    "def nom():\n",
    "\n",
    "    nom = input(\"Insereix un nom: \")\n",
    "    numero = int(input(\"Insereix un numero: \"))\n",
    "\n",
    "    if numero ==0:\n",
    "        print(\"Error: el nombre no pot ser zero\")\n",
    "    else:\n",
    "        resultat = nom * numero\n",
    "        print(resultat)\n",
    "\n",
    "nom()"
   ],
   "metadata": {
    "collapsed": false,
    "ExecuteTime": {
     "end_time": "2023-09-27T09:34:57.373700840Z",
     "start_time": "2023-09-27T09:34:53.439839505Z"
    }
   },
   "id": "c09e1e52f7f8699f"
  },
  {
   "cell_type": "markdown",
   "source": [
    "**Exercici 4**\n",
    "Crea un programa que donada una llista qualsevol, et digui si és simètrica o no. Si ho és, que et digui quants elements té."
   ],
   "metadata": {
    "collapsed": false
   },
   "id": "31fe3103d3766ed"
  },
  {
   "cell_type": "code",
   "execution_count": 19,
   "outputs": [
    {
     "name": "stdout",
     "output_type": "stream",
     "text": [
      "Llista asimètrica\n",
      "llista simètrica amb 13 elements\n",
      "llista simètrica amb 14 elements\n"
     ]
    }
   ],
   "source": [
    "nombres = [8, 3, 66, 15, 2, 37, 24, 98, 5, 17, 4, 56]\n",
    "nombres_sim = [1, 2, 3, 4, 5, 6, 7, 6, 5, 4, 3, 2, 1]\n",
    "nombres_sim2 = [1, 2, 3, 4, 5, 6, 7, 7, 6, 5, 4, 3, 2, 1]\n",
    "\n",
    "def es_simetric(llista):\n",
    "    i = 0\n",
    "    while i < (len(llista)//2):\n",
    "        if llista[i] != llista[(-i-1)]:\n",
    "            return(\"Llista asimètrica\")\n",
    "            break\n",
    "        i = i + 1\n",
    "    return(\"llista simètrica amb \" + str(len(llista)) + \" elements\")\n",
    "\n",
    "print(es_simetric(nombres))\n",
    "print(es_simetric(nombres_sim))\n",
    "print(es_simetric(nombres_sim2))"
   ],
   "metadata": {
    "collapsed": false,
    "ExecuteTime": {
     "end_time": "2023-09-27T08:47:34.261759949Z",
     "start_time": "2023-09-27T08:47:34.220634727Z"
    }
   },
   "id": "ea4e2030964e3ce7"
  },
  {
   "cell_type": "markdown",
   "source": [
    "**Exercici 5**\n",
    "Crea un programa que donada una llista, et digui quants números coincideixen amb la seva posició. Per exemple [3,4,2,0,2,3,6] el 2 i el 6 coincideixen."
   ],
   "metadata": {
    "collapsed": false
   },
   "id": "c0e37580b86a8252"
  },
  {
   "cell_type": "code",
   "execution_count": 20,
   "outputs": [
    {
     "name": "stdout",
     "output_type": "stream",
     "text": [
      "1\n",
      "0\n",
      "1\n",
      "2\n"
     ]
    }
   ],
   "source": [
    "nombres = [9, 1, 17, 64, 38, 3, 98, 62, 47, 3, 5, 99]    # coincideix el primer 1\n",
    "nombres_sim = [1, 2, 3, 4, 5, 6, 5, 4, 3, 2, 1]     # no coincideix cap\n",
    "nombres_sim2 = [1, 2, 3, 4, 5, 6, 6, 4, 3, 2, 1]     # coincideix el segon 5\n",
    "llista1 = [3,4,2,0,2,3,6]\n",
    "\n",
    "def coincidencies(llista):\n",
    "    count = 0\n",
    "    i = 0\n",
    "    while i < len(llista):\n",
    "        if i == llista[i]:\n",
    "            count = count + 1\n",
    "        i = i + 1\n",
    "    return(count)\n",
    "\n",
    "print(coincidencies(nombres))\n",
    "print(coincidencies(nombres_sim))\n",
    "print(coincidencies(nombres_sim2))\n",
    "print(coincidencies(llista1))"
   ],
   "metadata": {
    "collapsed": false,
    "ExecuteTime": {
     "end_time": "2023-09-27T08:51:22.913553776Z",
     "start_time": "2023-09-27T08:51:22.870590516Z"
    }
   },
   "id": "2cc60cf4921b3b5f"
  }
 ],
 "metadata": {
  "kernelspec": {
   "display_name": "Python 3",
   "language": "python",
   "name": "python3"
  },
  "language_info": {
   "codemirror_mode": {
    "name": "ipython",
    "version": 2
   },
   "file_extension": ".py",
   "mimetype": "text/x-python",
   "name": "python",
   "nbconvert_exporter": "python",
   "pygments_lexer": "ipython2",
   "version": "2.7.6"
  }
 },
 "nbformat": 4,
 "nbformat_minor": 5
}
