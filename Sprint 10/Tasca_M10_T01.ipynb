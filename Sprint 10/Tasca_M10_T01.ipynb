{
 "cells": [
  {
   "cell_type": "markdown",
   "source": [
    "Exercici 1\n",
    "Realitza web scraping de dues de les tres pàgines web proposades utilitzant BeautifulSoup primer i Selenium després. \n",
    "\n",
    "- http://quotes.toscrape.com\n",
    "- https://www.bolsamadrid.es\n",
    "- www.wikipedia.es (fes alguna cerca primer i escrapeja algun contingut)"
   ],
   "metadata": {
    "collapsed": false
   },
   "id": "ddeee0e9bee642f0"
  },
  {
   "cell_type": "markdown",
   "source": [
    "Quotes amb BeautifulSoup"
   ],
   "metadata": {
    "collapsed": false
   },
   "id": "45d8e1f0c2a2ac9f"
  },
  {
   "cell_type": "code",
   "execution_count": 31,
   "outputs": [
    {
     "data": {
      "text/plain": "<bound method Response.raise_for_status of <Response [200]>>"
     },
     "execution_count": 31,
     "metadata": {},
     "output_type": "execute_result"
    }
   ],
   "source": [
    "# Utilitzem la biblioteca de Requests per enviar una sol·licitud HTTP a l'URL \"http://quotes.toscrape.com/\"\n",
    "import requests\n",
    "\n",
    "URL_quotes = \"http://quotes.toscrape.com/\"\n",
    "page_quotes = requests.get(URL_quotes)\n",
    "page_quotes.raise_for_status"
   ],
   "metadata": {
    "collapsed": false,
    "ExecuteTime": {
     "end_time": "2024-01-09T11:46:25.133691081Z",
     "start_time": "2024-01-09T11:45:53.047735207Z"
    }
   },
   "id": "a6510e858547fe82"
  },
  {
   "cell_type": "code",
   "outputs": [],
   "source": [
    "# Utilitzem la Biblioteca BeautifulSoup per crear un objecte BeautifulSoup des del contingut HTML obtingut al fragment del codi anterior\n",
    "from bs4 import BeautifulSoup\n",
    "\n",
    "soup_quotes = BeautifulSoup(page_quotes.content, \"html.parser\")"
   ],
   "metadata": {
    "collapsed": false,
    "ExecuteTime": {
     "end_time": "2024-01-09T11:55:49.272258354Z",
     "start_time": "2024-01-09T11:55:49.228212988Z"
    }
   },
   "id": "aae6d2f27f9a7c99",
   "execution_count": 33
  },
  {
   "cell_type": "code",
   "outputs": [
    {
     "name": "stdout",
     "output_type": "stream",
     "text": [
      "“The world as we have created it is a process of our thinking. It cannot be changed without changing our thinking.”\n",
      "Albert Einstein \n",
      "\n",
      "“It is our choices, Harry, that show what we truly are, far more than our abilities.”\n",
      "J.K. Rowling \n",
      "\n",
      "“There are only two ways to live your life. One is as though nothing is a miracle. The other is as though everything is a miracle.”\n",
      "Albert Einstein \n",
      "\n",
      "“The person, be it gentleman or lady, who has not pleasure in a good novel, must be intolerably stupid.”\n",
      "Jane Austen \n",
      "\n",
      "“Imperfection is beauty, madness is genius and it's better to be absolutely ridiculous than absolutely boring.”\n",
      "Marilyn Monroe \n",
      "\n",
      "“Try not to become a man of success. Rather become a man of value.”\n",
      "Albert Einstein \n",
      "\n",
      "“It is better to be hated for what you are than to be loved for what you are not.”\n",
      "André Gide \n",
      "\n",
      "“I have not failed. I've just found 10,000 ways that won't work.”\n",
      "Thomas A. Edison \n",
      "\n",
      "“A woman is like a tea bag; you never know how strong it is until it's in hot water.”\n",
      "Eleanor Roosevelt \n",
      "\n",
      "“A day without sunshine is like, you know, night.”\n",
      "Steve Martin \n"
     ]
    }
   ],
   "source": [
    "# Processem cada frase (quote) a la pàgina web, extreiem la frase i el seu autor \n",
    "results_all = soup_quotes.find_all('div', class_=\"quote\")\n",
    "for element in results_all:\n",
    "    quote_element = element.find('span', class_=\"text\")\n",
    "    author_element = element.find('small', class_=\"author\")\n",
    "    print(quote_element.text)\n",
    "    print(author_element.text, '\\n')"
   ],
   "metadata": {
    "collapsed": false,
    "ExecuteTime": {
     "end_time": "2024-01-09T11:55:49.760024335Z",
     "start_time": "2024-01-09T11:55:49.747812523Z"
    }
   },
   "id": "1b2766039d5707fe",
   "execution_count": 34
  },
  {
   "cell_type": "markdown",
   "source": [
    "Frases amb Selenium"
   ],
   "metadata": {
    "collapsed": false
   },
   "id": "4e36e7685ea00c4b"
  },
  {
   "cell_type": "code",
   "outputs": [
    {
     "data": {
      "text/plain": "<selenium.webdriver.chrome.options.Options at 0x7f984fc7e710>"
     },
     "execution_count": 35,
     "metadata": {},
     "output_type": "execute_result"
    }
   ],
   "source": [
    "# Utilizem Selenium amb Chrome i ChromeOptions per crear un objecte Opcions\n",
    "from selenium import webdriver\n",
    "from selenium.webdriver.chrome.options import Options\n",
    "\n",
    "# L’opció - -DetaCh a Chrome permet al navegador funcionar en segon pla com a procés separat després de desprendre el terminal de control\n",
    "options = Options()\n",
    "options.add_argument('--detach')\n",
    "\n",
    "options"
   ],
   "metadata": {
    "collapsed": false,
    "ExecuteTime": {
     "end_time": "2024-01-09T11:55:51.004059019Z",
     "start_time": "2024-01-09T11:55:50.999521474Z"
    }
   },
   "id": "d0705ca074a22680",
   "execution_count": 35
  },
  {
   "cell_type": "code",
   "outputs": [],
   "source": [
    "from selenium.webdriver.chrome.service import Service\n",
    "from webdriver_manager.chrome import ChromeDriverManager\n",
    "\n",
    "driver = webdriver.Chrome(service=Service(ChromeDriverManager().install()),\n",
    "                          options = options)\n",
    "driver.get('http://quotes.toscrape.com//')  "
   ],
   "metadata": {
    "collapsed": false,
    "ExecuteTime": {
     "end_time": "2024-01-09T11:55:55.644412923Z",
     "start_time": "2024-01-09T11:55:51.678875633Z"
    }
   },
   "id": "e9c19af7e90627a2",
   "execution_count": 36
  },
  {
   "cell_type": "code",
   "outputs": [
    {
     "name": "stdout",
     "output_type": "stream",
     "text": [
      "“The world as we have created it is a process of our thinking. It cannot be changed without changing our thinking.”\n",
      "Albert Einstein \n",
      "\n",
      "“It is our choices, Harry, that show what we truly are, far more than our abilities.”\n",
      "J.K. Rowling \n",
      "\n",
      "“There are only two ways to live your life. One is as though nothing is a miracle. The other is as though everything is a miracle.”\n",
      "Albert Einstein \n",
      "\n",
      "“The person, be it gentleman or lady, who has not pleasure in a good novel, must be intolerably stupid.”\n",
      "Jane Austen \n",
      "\n",
      "“Imperfection is beauty, madness is genius and it's better to be absolutely ridiculous than absolutely boring.”\n",
      "Marilyn Monroe \n",
      "\n",
      "“Try not to become a man of success. Rather become a man of value.”\n",
      "Albert Einstein \n",
      "\n",
      "“It is better to be hated for what you are than to be loved for what you are not.”\n",
      "André Gide \n",
      "\n",
      "“I have not failed. I've just found 10,000 ways that won't work.”\n",
      "Thomas A. Edison \n",
      "\n",
      "“A woman is like a tea bag; you never know how strong it is until it's in hot water.”\n",
      "Eleanor Roosevelt \n",
      "\n",
      "“A day without sunshine is like, you know, night.”\n",
      "Steve Martin \n"
     ]
    }
   ],
   "source": [
    "# Utilitzem Selenium per trobar i imprimir el text i la informació de l’autor de les frases a la pàgina web\n",
    "from selenium.webdriver.common.by import By\n",
    "\n",
    "texts = driver.find_elements(By.CSS_SELECTOR, '.text')\n",
    "authors = driver.find_elements(By.CSS_SELECTOR, '.author')\n",
    "\n",
    "for i in range(10):\n",
    "    print(texts[i].text)\n",
    "    print(authors[i].text, '\\n')\n",
    "\n",
    "driver.close()"
   ],
   "metadata": {
    "collapsed": false,
    "ExecuteTime": {
     "end_time": "2024-01-09T11:55:55.908128974Z",
     "start_time": "2024-01-09T11:55:55.647017676Z"
    }
   },
   "id": "cc59421ab8a8615e",
   "execution_count": 37
  },
  {
   "cell_type": "markdown",
   "source": [
    "Com hem aconseguit treure les frases de la primera pàgina, he pres la llibertat d'incloure el codi per poder treure informació de totes les pàgines que vulguem, modificant el número després de 'num_pages =' :"
   ],
   "metadata": {
    "collapsed": false
   },
   "id": "76b31d310338ae89"
  },
  {
   "cell_type": "code",
   "outputs": [
    {
     "name": "stdout",
     "output_type": "stream",
     "text": [
      "Page 1:\n",
      "\n",
      "“The world as we have created it is a process of our thinking. It cannot be changed without changing our thinking.”\n",
      "Albert Einstein \n",
      "\n",
      "“It is our choices, Harry, that show what we truly are, far more than our abilities.”\n",
      "J.K. Rowling \n",
      "\n",
      "“There are only two ways to live your life. One is as though nothing is a miracle. The other is as though everything is a miracle.”\n",
      "Albert Einstein \n",
      "\n",
      "“The person, be it gentleman or lady, who has not pleasure in a good novel, must be intolerably stupid.”\n",
      "Jane Austen \n",
      "\n",
      "“Imperfection is beauty, madness is genius and it's better to be absolutely ridiculous than absolutely boring.”\n",
      "Marilyn Monroe \n",
      "\n",
      "“Try not to become a man of success. Rather become a man of value.”\n",
      "Albert Einstein \n",
      "\n",
      "“It is better to be hated for what you are than to be loved for what you are not.”\n",
      "André Gide \n",
      "\n",
      "“I have not failed. I've just found 10,000 ways that won't work.”\n",
      "Thomas A. Edison \n",
      "\n",
      "“A woman is like a tea bag; you never know how strong it is until it's in hot water.”\n",
      "Eleanor Roosevelt \n",
      "\n",
      "“A day without sunshine is like, you know, night.”\n",
      "Steve Martin \n",
      "Page 2:\n",
      "\n",
      "“This life is what you make it. No matter what, you're going to mess up sometimes, it's a universal truth. But the good part is you get to decide how you're going to mess it up. Girls will be your friends - they'll act like it anyway. But just remember, some come, some go. The ones that stay with you through everything - they're your true best friends. Don't let go of them. Also remember, sisters make the best friends in the world. As for lovers, well, they'll come and go too. And baby, I hate to say it, most of them - actually pretty much all of them are going to break your heart, but you can't give up because if you give up, you'll never find your soulmate. You'll never find that half who makes you whole and that goes for everything. Just because you fail once, doesn't mean you're gonna fail at everything. Keep trying, hold on, and always, always, always believe in yourself, because if you don't, then who will, sweetie? So keep your head high, keep your chin up, and most importantly, keep smiling, because life's a beautiful thing and there's so much to smile about.”\n",
      "Marilyn Monroe \n",
      "\n",
      "“It takes a great deal of bravery to stand up to our enemies, but just as much to stand up to our friends.”\n",
      "J.K. Rowling \n",
      "\n",
      "“If you can't explain it to a six year old, you don't understand it yourself.”\n",
      "Albert Einstein \n",
      "\n",
      "“You may not be her first, her last, or her only. She loved before she may love again. But if she loves you now, what else matters? She's not perfect—you aren't either, and the two of you may never be perfect together but if she can make you laugh, cause you to think twice, and admit to being human and making mistakes, hold onto her and give her the most you can. She may not be thinking about you every second of the day, but she will give you a part of her that she knows you can break—her heart. So don't hurt her, don't change her, don't analyze and don't expect more than she can give. Smile when she makes you happy, let her know when she makes you mad, and miss her when she's not there.”\n",
      "Bob Marley \n",
      "\n",
      "“I like nonsense, it wakes up the brain cells. Fantasy is a necessary ingredient in living.”\n",
      "Dr. Seuss \n",
      "\n",
      "“I may not have gone where I intended to go, but I think I have ended up where I needed to be.”\n",
      "Douglas Adams \n",
      "\n",
      "“The opposite of love is not hate, it's indifference. The opposite of art is not ugliness, it's indifference. The opposite of faith is not heresy, it's indifference. And the opposite of life is not death, it's indifference.”\n",
      "Elie Wiesel \n",
      "\n",
      "“It is not a lack of love, but a lack of friendship that makes unhappy marriages.”\n",
      "Friedrich Nietzsche \n",
      "\n",
      "“Good friends, good books, and a sleepy conscience: this is the ideal life.”\n",
      "Mark Twain \n",
      "\n",
      "“Life is what happens to us while we are making other plans.”\n",
      "Allen Saunders \n",
      "Page 3:\n",
      "\n",
      "“I love you without knowing how, or when, or from where. I love you simply, without problems or pride: I love you in this way because I do not know any other way of loving but this, in which there is no I or you, so intimate that your hand upon my chest is my hand, so intimate that when I fall asleep your eyes close.”\n",
      "Pablo Neruda \n",
      "\n",
      "“For every minute you are angry you lose sixty seconds of happiness.”\n",
      "Ralph Waldo Emerson \n",
      "\n",
      "“If you judge people, you have no time to love them.”\n",
      "Mother Teresa \n",
      "\n",
      "“Anyone who thinks sitting in church can make you a Christian must also think that sitting in a garage can make you a car.”\n",
      "Garrison Keillor \n",
      "\n",
      "“Beauty is in the eye of the beholder and it may be necessary from time to time to give a stupid or misinformed beholder a black eye.”\n",
      "Jim Henson \n",
      "\n",
      "“Today you are You, that is truer than true. There is no one alive who is Youer than You.”\n",
      "Dr. Seuss \n",
      "\n",
      "“If you want your children to be intelligent, read them fairy tales. If you want them to be more intelligent, read them more fairy tales.”\n",
      "Albert Einstein \n",
      "\n",
      "“It is impossible to live without failing at something, unless you live so cautiously that you might as well not have lived at all - in which case, you fail by default.”\n",
      "J.K. Rowling \n",
      "\n",
      "“Logic will get you from A to Z; imagination will get you everywhere.”\n",
      "Albert Einstein \n",
      "\n",
      "“One good thing about music, when it hits you, you feel no pain.”\n",
      "Bob Marley \n",
      "Page 4:\n",
      "\n",
      "“The more that you read, the more things you will know. The more that you learn, the more places you'll go.”\n",
      "Dr. Seuss \n",
      "\n",
      "“Of course it is happening inside your head, Harry, but why on earth should that mean that it is not real?”\n",
      "J.K. Rowling \n",
      "\n",
      "“The truth is, everyone is going to hurt you. You just got to find the ones worth suffering for.”\n",
      "Bob Marley \n",
      "\n",
      "“Not all of us can do great things. But we can do small things with great love.”\n",
      "Mother Teresa \n",
      "\n",
      "“To the well-organized mind, death is but the next great adventure.”\n",
      "J.K. Rowling \n",
      "\n",
      "“All you need is love. But a little chocolate now and then doesn't hurt.”\n",
      "Charles M. Schulz \n",
      "\n",
      "“We read to know we're not alone.”\n",
      "William Nicholson \n",
      "\n",
      "“Any fool can know. The point is to understand.”\n",
      "Albert Einstein \n",
      "\n",
      "“I have always imagined that Paradise will be a kind of library.”\n",
      "Jorge Luis Borges \n",
      "\n",
      "“It is never too late to be what you might have been.”\n",
      "George Eliot \n",
      "Page 5:\n",
      "\n",
      "“A reader lives a thousand lives before he dies, said Jojen. The man who never reads lives only one.”\n",
      "George R.R. Martin \n",
      "\n",
      "“You can never get a cup of tea large enough or a book long enough to suit me.”\n",
      "C.S. Lewis \n",
      "\n",
      "“You believe lies so you eventually learn to trust no one but yourself.”\n",
      "Marilyn Monroe \n",
      "\n",
      "“If you can make a woman laugh, you can make her do anything.”\n",
      "Marilyn Monroe \n",
      "\n",
      "“Life is like riding a bicycle. To keep your balance, you must keep moving.”\n",
      "Albert Einstein \n",
      "\n",
      "“The real lover is the man who can thrill you by kissing your forehead or smiling into your eyes or just staring into space.”\n",
      "Marilyn Monroe \n",
      "\n",
      "“A wise girl kisses but doesn't love, listens but doesn't believe, and leaves before she is left.”\n",
      "Marilyn Monroe \n",
      "\n",
      "“Only in the darkness can you see the stars.”\n",
      "Martin Luther King Jr. \n",
      "\n",
      "“It matters not what someone is born, but what they grow to be.”\n",
      "J.K. Rowling \n",
      "\n",
      "“Love does not begin and end the way we seem to think it does. Love is a battle, love is a war; love is a growing up.”\n",
      "James Baldwin \n"
     ]
    }
   ],
   "source": [
    "from selenium import webdriver\n",
    "from selenium.webdriver.common.by import By\n",
    "\n",
    "# Obre Chrome\n",
    "driver = webdriver.Chrome(options=options)\n",
    "\n",
    "# URL de la pagina\n",
    "base_url = 'http://quotes.toscrape.com/'\n",
    "driver.get(base_url)\n",
    "\n",
    "# Nombre de pagines que volem\n",
    "num_pages = 5  \n",
    "\n",
    "for page in range(1, num_pages + 1):\n",
    "    # Localitzem i processem elements a la pàgina actual\n",
    "    texts = driver.find_elements(By.CSS_SELECTOR, '.text')\n",
    "    authors = driver.find_elements(By.CSS_SELECTOR, '.author')\n",
    "\n",
    "    # Imprimeix la informació de la pàgina actual\n",
    "    print(f\"Page {page}:\\n\")\n",
    "    for i in range(len(texts)):\n",
    "        print(texts[i].text)\n",
    "        print(authors[i].text, '\\n')\n",
    "\n",
    "    # Navegem a la pàgina següent si està disponible i si no ho està imprimim 'No hi ha més pàgines disponibles.'\n",
    "    next_button = driver.find_element(By.CSS_SELECTOR, 'li.next > a')\n",
    "    if next_button.is_enabled():\n",
    "        next_button.click()\n",
    "    else:\n",
    "        print(\"No hi ha més pàgines disponibles.\")\n",
    "        break\n",
    "\n",
    "# Tanquem Chrome\n",
    "driver.close()"
   ],
   "metadata": {
    "collapsed": false,
    "ExecuteTime": {
     "end_time": "2024-01-09T11:56:03.527648365Z",
     "start_time": "2024-01-09T11:55:57.588477555Z"
    }
   },
   "id": "f1cad8bc7f0af0a8",
   "execution_count": 38
  },
  {
   "cell_type": "markdown",
   "source": [
    "Contingut scrapped de Wikipedia:\n",
    "Una cronologia de criptomonedes amb BeautifulSoup"
   ],
   "metadata": {
    "collapsed": false
   },
   "id": "1613386b7d238f94"
  },
  {
   "cell_type": "code",
   "execution_count": 39,
   "outputs": [
    {
     "data": {
      "text/plain": "<bound method Response.raise_for_status of <Response [200]>>"
     },
     "execution_count": 39,
     "metadata": {},
     "output_type": "execute_result"
    }
   ],
   "source": [
    "import requests\n",
    "\n",
    "URL_cryptos = \"https://en.wikipedia.org/wiki/List_of_cryptocurrencies\"\n",
    "page_cryptos = requests.get(URL_cryptos)\n",
    "page_cryptos.raise_for_status"
   ],
   "metadata": {
    "collapsed": false,
    "ExecuteTime": {
     "end_time": "2024-01-09T11:56:06.237670127Z",
     "start_time": "2024-01-09T11:56:05.859055206Z"
    }
   },
   "id": "63dabf3ec5012f43"
  },
  {
   "cell_type": "code",
   "execution_count": 42,
   "outputs": [
    {
     "name": "stdout",
     "output_type": "stream",
     "text": [
      "Criptomonedes (cronologia) \n",
      "\n",
      "Any:  2009\n",
      "Nom :  Bitcoin\n",
      "Algoritme:  SHA-256d[4][5]\n",
      "Consensus:  PoW[5][7]\n",
      "Creadors:  Satoshi Nakamoto\n",
      "\n",
      "Any:  2011\n",
      "Nom :  Litecoin\n",
      "Algoritme:  Scrypt\n",
      "Consensus:  PoW\n",
      "Creadors:  Charlie Lee\n",
      "\n",
      "Any:  2011\n",
      "Nom :  Namecoin\n",
      "Algoritme:  SHA-256d\n",
      "Consensus:  PoW\n",
      "Creadors:  Vincent Durham[11][12]\n",
      "\n",
      "Any:  2012\n",
      "Nom :  Peercoin\n",
      "Algoritme:  SHA-256d[citation needed]\n",
      "Consensus:  PoW & PoS\n",
      "Creadors:  Sunny King(pseudonym)[citation needed]\n",
      "\n",
      "Any:  2013\n",
      "Nom :  Dogecoin\n",
      "Algoritme:  Scrypt[16]\n",
      "Consensus:  PoW\n",
      "Creadors:  Jackson Palmer& Billy Markus[15]\n",
      "\n",
      "Any:  2013\n",
      "Nom :  Gridcoin\n",
      "Algoritme:  Scrypt\n",
      "Consensus:  Decentralized PoS\n",
      "Creadors:  Rob Hälford[17]\n",
      "\n",
      "Any:  2013\n",
      "Nom :  Primecoin\n",
      "Algoritme:  1CC/2CC/TWN[20]\n",
      "Consensus:  PoW[20]\n",
      "Creadors:  Sunny King(pseudonym)[citation needed]\n",
      "\n",
      "Any:  2013\n",
      "Nom :  Ripple[22][23]\n",
      "Algoritme:  ECDSA[25]\n",
      "Consensus:  \"Consensus\"\n",
      "Creadors:  Chris Larsen &Jed McCaleb[24]\n",
      "\n",
      "Any:  2013\n",
      "Nom :  Nxt\n",
      "Algoritme:  SHA-256d[27]\n",
      "Consensus:  PoS\n",
      "Creadors:  BCNext(pseudonym)\n",
      "\n",
      "Any:  2014\n",
      "Nom :  Auroracoin\n",
      "Algoritme:  Scrypt\n",
      "Consensus:  PoW\n",
      "Creadors:  Baldur Odinsson(pseudonym)[29]\n",
      "\n",
      "Any:  2014\n",
      "Nom :  Dash\n",
      "Algoritme:  X11\n",
      "Consensus:  PoW & Proof of Service[nt 1]\n",
      "Creadors:  Evan Duffield &Kyle Hagan[citation needed]\n",
      "\n",
      "Any:  2014\n",
      "Nom :  NEO\n",
      "Algoritme:  SHA-256 & RIPEMD160\n",
      "Consensus:  dBFT\n",
      "Creadors:  Da Hongfei & Erik Zhang\n",
      "\n",
      "Any:  2014\n",
      "Nom :  MazaCoin\n",
      "Algoritme:  SHA-256d\n",
      "Consensus:  PoW\n",
      "Creadors:  BTC Oyate Initiative\n",
      "\n",
      "Any:  2014\n",
      "Nom :  Monero\n",
      "Algoritme:  RandomX\n",
      "Consensus:  PoW\n",
      "Creadors:  Monero Core Team\n",
      "\n",
      "Any:  2014\n",
      "Nom :  Titcoin\n",
      "Algoritme:  SHA-256d\n",
      "Consensus:  PoW\n",
      "Creadors:  Edward Mansfield & Richard Allen[35]\n",
      "\n",
      "Any:  2014\n",
      "Nom :  Verge\n",
      "Algoritme:  Scrypt, x17, groestl, blake2s, and lyra2rev2\n",
      "Consensus:  PoW\n",
      "Creadors:  Sunerok\n",
      "\n",
      "Any:  2014\n",
      "Nom :  Stellar\n",
      "Algoritme:  Stellar Consensus Protocol (SCP) [39]\n",
      "Consensus:  Stellar Consensus Protocol (SCP) [39]\n",
      "Creadors:  Jed McCaleb\n",
      "\n",
      "Any:  2014\n",
      "Nom :  Vertcoin\n",
      "Algoritme:  Verthash[42]\n",
      "Consensus:  PoW\n",
      "Creadors:  David Muller[41]\n",
      "\n",
      "Any:  2015\n",
      "Nom :  Ethereum\n",
      "Algoritme:  Ethash[45]\n",
      "Consensus:  PoW, PoS\n",
      "Creadors:  Vitalik Buterin[44]\n",
      "\n",
      "Any:  2015\n",
      "Nom :  Ethereum Classic\n",
      "Algoritme:  EtcHash/Thanos[47]\n",
      "Consensus:  PoW\n",
      "Creadors:  \n",
      "\n",
      "Any:  2015\n",
      "Nom :  Nano\n",
      "Algoritme:  Blake2\n",
      "Consensus:  Open Representative Voting[50]\n",
      "Creadors:  Colin LeMahieu\n",
      "\n",
      "Any:  2015\n",
      "Nom :  Tether\n",
      "Algoritme:  Omnicore[52]\n",
      "Consensus:  PoW\n",
      "Creadors:  Jan Ludovicus van der Velde[51]\n",
      "\n",
      "Any:  2016\n",
      "Nom :  Firo\n",
      "Algoritme:  Merkle tree Proof[55]\n",
      "Consensus:  PoW\n",
      "Creadors:  Poramin Insom[54]\n",
      "\n",
      "Any:  2016\n",
      "Nom :  Zcash\n",
      "Algoritme:  Equihash\n",
      "Consensus:  PoW\n",
      "Creadors:  Zooko Wilcox\n",
      "\n",
      "Any:  2017\n",
      "Nom :  Bitcoin Cash\n",
      "Algoritme:  SHA-256d\n",
      "Consensus:  PoW\n",
      "Creadors:  \n",
      "\n",
      "Any:  2017\n",
      "Nom :  EOS.IO\n",
      "Algoritme:  \n",
      "Consensus:  delegated PoS\n",
      "Creadors:  Dan Larimer\n",
      "\n",
      "Any:  2017\n",
      "Nom :  Cardano\n",
      "Algoritme:  Ouroboros, PoS Algorithm[61]\n",
      "Consensus:  PoS\n",
      "Creadors:  Charles Hoskinson\n",
      "\n",
      "Any:  2017\n",
      "Nom :  Tron\n",
      "Algoritme:  \n",
      "Consensus:  \n",
      "Creadors:  Justin Sun\n",
      "\n",
      "Any:  2018\n",
      "Nom :  AmbaCoin\n",
      "Algoritme:  \n",
      "Consensus:  \n",
      "Creadors:  \n",
      "\n",
      "Any:  2018\n",
      "Nom :  Nervos Network\n",
      "Algoritme:  Eaglesong\n",
      "Consensus:  PoW\n",
      "Creadors:  Kevin Wang, Daniel Lv, Terry Tai\n",
      "\n",
      "Any:  2019\n",
      "Nom :  Algorand\n",
      "Algoritme:  \n",
      "Consensus:  PoS\n",
      "Creadors:  Silvio Micali\n",
      "\n",
      "Any:  2020\n",
      "Nom :  Avalanche\n",
      "Algoritme:  \n",
      "Consensus:  PoS\n",
      "Creadors:  Emin Gün Sirer, Kevin Sekniqi, Maofan \"Ted\" Yin\n",
      "\n",
      "Any:  2020\n",
      "Nom :  Shiba Inu\n",
      "Algoritme:  \n",
      "Consensus:  PoS\n",
      "Creadors:  Ryoshi\n",
      "\n",
      "Any:  2020\n",
      "Nom :  Polkadot\n",
      "Algoritme:  \n",
      "Consensus:  PoS\n",
      "Creadors:  Gavin Wood\n",
      "\n",
      "Any:  2021\n",
      "Nom :  DeSo\n",
      "Algoritme:  \n",
      "Consensus:  PoW[72]\n",
      "Creadors:  Nader al-Naji (aka diamondhands)[70]\n",
      "\n",
      "Any:  2021\n",
      "Nom :  SafeMoon\n",
      "Algoritme:  \n",
      "Consensus:  PoW\n",
      "Creadors:  SafeMoon LLC\n"
     ]
    }
   ],
   "source": [
    "from bs4 import BeautifulSoup\n",
    "\n",
    "soup_cryptos = BeautifulSoup(page_cryptos.content, \"html.parser\")\n",
    "tab = soup_cryptos.find('div', id=\"mw-content-text\")\n",
    "\n",
    "tabs = tab.find_all('table', class_=\"wikitable sortable\")\n",
    "# ordenem la taula\n",
    "print(\"Criptomonedes (cronologia) \\n\")\n",
    "\n",
    "for tt in tabs[0].find_all('tr')[1:]:        # saltem el primer <tr> ja que és la capçalera\n",
    "    print('Any: ', tt.find_all('td')[0].text + 'Nom : ',  tt.find_all('td')[1].text + 'Algoritme: ', tt.find_all('td')[4].text + 'Consensus: ', tt.find_all('td')[6].text.strip(\"[]\") + 'Creadors: ', tt.find_all('td')[3].text)"
   ],
   "metadata": {
    "collapsed": false,
    "ExecuteTime": {
     "end_time": "2024-01-09T11:58:18.380795174Z",
     "start_time": "2024-01-09T11:58:18.295953469Z"
    }
   },
   "id": "6a8de87712a3d032"
  },
  {
   "cell_type": "markdown",
   "source": [
    "Una cronologia de criptomonedes amb Selenium"
   ],
   "metadata": {
    "collapsed": false
   },
   "id": "7fb4be281c425124"
  },
  {
   "cell_type": "code",
   "outputs": [],
   "source": [
    "from selenium.webdriver.chrome.service import Service\n",
    "from selenium import webdriver\n",
    "from selenium.webdriver.common.by import By\n",
    "from webdriver_manager.chrome import ChromeDriverManager\n",
    "import pandas as pd\n",
    "\n",
    "# Configurem les opcions de Chrome\n",
    "options_c = webdriver.ChromeOptions()\n",
    "options_c.add_argument('--headless')\n",
    "\n",
    "# Inicialitzem el driver de Chrome\n",
    "driver_c = webdriver.Chrome(service=Service(ChromeDriverManager().install()), options=options_c)\n",
    "driver_c.get('https://en.wikipedia.org/wiki/List_of_cryptocurrencies')\n",
    "\n",
    "# Trobem la taula objectiu\n",
    "mytable = driver_c.find_element(By.XPATH, \"//*[@id='mw-content-text']/div[1]/table[2]\")\n",
    "\n",
    "# Inicialitzem un DataFrame buit\n",
    "df = pd.DataFrame()\n",
    "\n",
    "# Iterem a través de files i cel·les\n",
    "for row in mytable.find_elements(By.CSS_SELECTOR, 'tr'):\n",
    "    i = 0\n",
    "    row_contents = {}  # Emmagatzemem el contingut de la cel·la per a la fila actual\n",
    "\n",
    "    for cell in row.find_elements(By.CSS_SELECTOR, 'td'):\n",
    "        if i == 0:\n",
    "            row_contents['Any'] = cell.text\n",
    "        elif i == 1:\n",
    "            row_contents['Moneda'] = cell.text\n",
    "        elif i == 4:\n",
    "            row_contents['Algorisme'] = cell.text\n",
    "        elif i == 6:\n",
    "            row_contents['Consens'] = cell.text\n",
    "        elif i == 3:\n",
    "            row_contents['Creadors'] = cell.text\n",
    "        i += 1\n",
    "\n",
    "    # Afegim el contingut de fila al DataFrame\n",
    "    df = pd.concat([df, pd.DataFrame([row_contents])], ignore_index=True)\n",
    "\n",
    "# Desem el DataFrame com a fitxer Excel\n",
    "df.to_excel('crypto_data.xlsx', index=False)\n",
    "\n",
    "# Tanquem Chrome\n",
    "driver_c.quit()"
   ],
   "metadata": {
    "collapsed": false,
    "ExecuteTime": {
     "end_time": "2024-01-09T12:08:27.619017928Z",
     "start_time": "2024-01-09T12:08:23.764626303Z"
    }
   },
   "id": "bf3c81a50dfa5dcb",
   "execution_count": 53
  },
  {
   "cell_type": "markdown",
   "source": [
    "Exercici 2\n",
    "\n",
    "Document word anomenat documentacio_cryptos.docx es troba al Github i dona detalls sobre el dataset anomenat crypto_data. "
   ],
   "metadata": {
    "collapsed": false
   },
   "id": "a0da12cfe8499383"
  },
  {
   "cell_type": "markdown",
   "source": [
    "Exercici 3\n",
    "Farem web scraping de la pàgina de Wikipedia de la pel·lícula The Big Short primer, i de la pàgina del llibre després. Primer fem scraping de la pàgina de la pel·lícula per obtenir tots els actors que van interpretar els personatges."
   ],
   "metadata": {
    "collapsed": false
   },
   "id": "f8d05ebaca4b27d7"
  },
  {
   "cell_type": "markdown",
   "source": [
    "The Big Short amb Selenium (personatges de pel·lícula)"
   ],
   "metadata": {
    "collapsed": false
   },
   "id": "71c0d644cd237d48"
  },
  {
   "cell_type": "code",
   "execution_count": null,
   "outputs": [],
   "source": [
    "from selenium import webdriver\n",
    "from selenium.webdriver.chrome.options import Options\n",
    "\n",
    "options = Options()\n",
    "options.add_argument('--detach')\n",
    "\n",
    "driver2 = webdriver.Chrome(service=Service(ChromeDriverManager().install()),\n",
    "                           options = options)\n",
    "driver2.get('https://en.wikipedia.org/wiki/The_Big_Short_(film)')\n",
    "\n",
    "mylist = driver2.find_element(By.XPATH, \"//*[@id='mw-content-text']/div[1]/ul[1]\")\n",
    "\n",
    "actors = mylist.find_elements(By.CSS_SELECTOR, 'li')\n",
    "\n",
    "for t in actors:\n",
    "    print(t.text, '\\n')\n",
    "\n",
    "driver2.close()"
   ],
   "metadata": {
    "collapsed": false,
    "ExecuteTime": {
     "start_time": "2024-01-09T11:45:43.416573197Z"
    }
   },
   "id": "383664c93bd0506e"
  },
  {
   "cell_type": "markdown",
   "source": [
    "A continuació fem scraping de la pàgina de Wikipedia del llibre The Big Short per obtenir el resum de la pel·lícula, i disposar de la totalitat dels personatges, ja que no tots van voler participar a la pelicula."
   ],
   "metadata": {
    "collapsed": false
   },
   "id": "e884e962674b8bb5"
  },
  {
   "cell_type": "code",
   "execution_count": null,
   "outputs": [],
   "source": [
    "options = Options()\n",
    "options.add_argument('--detach')\n",
    "\n",
    "driver3 = webdriver.Chrome(service=Service(ChromeDriverManager().install()),\n",
    "                           options = options)\n",
    "driver3.get('https://en.wikipedia.org/wiki/The_Big_Short')\n",
    "\n",
    "myp1 = driver3.find_element(By.XPATH, \"//*[@id='mw-content-text']/div[1]/p[3]\")\n",
    "myp2 = driver3.find_element(By.XPATH, \"//*[@id='mw-content-text']/div[1]/p[4]\")\n",
    "myp3 = driver3.find_element(By.XPATH, \"//*[@id='mw-content-text']/div[1]/p[5]\")\n",
    "\n",
    "print(myp1.text, '\\n')\n",
    "print(myp2.text, '\\n')\n",
    "print(myp3.text)\n",
    "\n",
    "driver3.close()"
   ],
   "metadata": {
    "collapsed": false,
    "ExecuteTime": {
     "start_time": "2024-01-09T11:45:43.416702388Z"
    }
   },
   "id": "857f6cef04030427"
  }
 ],
 "metadata": {
  "kernelspec": {
   "display_name": "Python 3",
   "language": "python",
   "name": "python3"
  },
  "language_info": {
   "codemirror_mode": {
    "name": "ipython",
    "version": 2
   },
   "file_extension": ".py",
   "mimetype": "text/x-python",
   "name": "python",
   "nbconvert_exporter": "python",
   "pygments_lexer": "ipython2",
   "version": "2.7.6"
  }
 },
 "nbformat": 4,
 "nbformat_minor": 5
}
